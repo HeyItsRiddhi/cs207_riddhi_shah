{
 "cells": [
  {
   "cell_type": "markdown",
   "metadata": {},
   "source": [
    "# Exercise 1\n",
    "Read and parse the chemical reactions `.xml` input file `rxns.xml`.\n",
    "\n",
    "\n",
    "1. Collect the species into a species list.  My output is `['H', 'O', 'OH', 'H2', 'O2']`.\n",
    "    \n",
    "    Some notes and hints:\n",
    "    * **Hint:**  For this `.xml` format you should have a loop over the `phase` element.\n",
    "    * **Hint:** You can use the `find()` method to get the species array.\n",
    "\n",
    "2. Calculate and print out the Arrhenius reaction rate coefficients using $R = 8.314$ and $T = 1500$.\n",
    "\n",
    "    Some notes and hints:\n",
    "    * **Hint:**  For this `.xml` format you should have loops over the `reactionData` element, the `reaction` element, the `rateCoeff` element, and the `Arrhenius` element using the `findall()` method discussed in lecture.\n",
    "    * **Hint:** You can use the `find()` method to get the reaction rate coefficients.\n",
    "    * My solution is:\n",
    "    \n",
    "        `k for reaction01 =    6.8678391864294477e+05\n",
    "    k for reaction02 =    2.3105559199959813e+06`"
   ]
  },
  {
   "cell_type": "code",
   "execution_count": 23,
   "metadata": {},
   "outputs": [
    {
     "name": "stdout",
     "output_type": "stream",
     "text": [
      "['H', 'O', 'OH', 'H2', 'O2']\n"
     ]
    }
   ],
   "source": [
    "import xml.etree.ElementTree as ET\n",
    "reactions = ET.parse('rxns.xml')\n",
    "ctml = reactions.getroot()\n",
    "for phase in ctml.findall('phase'):\n",
    "    species = phase.find('speciesArray').text\n",
    "\n",
    "species = species.split()\n",
    "print(species)\n"
   ]
  },
  {
   "cell_type": "code",
   "execution_count": 24,
   "metadata": {
    "collapsed": true
   },
   "outputs": [],
   "source": [
    "import math\n",
    "import numpy as np\n",
    "\n",
    "def arrhenius_rate(params, T, R=8.314):\n",
    "    #Check that A,b,E is passed as a list\n",
    "    if(len(params) != 3 or type(params) != list):\n",
    "        print(\"ERROR: First argument needs to be a list of 3\")\n",
    "    else:\n",
    "        [A,b,E] = params\n",
    "        #Check that A,b,E is passed are numbers\n",
    "        if ((type(A) != int and type(A) != float) or \n",
    "            (type(b) != int and type(b) != float) or\n",
    "            (type(E) != int and type(E) != float)):\n",
    "            print(\"Error: All numbers in list must be of type integer or float\")\n",
    "        else:\n",
    "            #Calculate k(T)\n",
    "            kt = A*T**(b)*np.exp(-E/(R*T))\n",
    "            return kt"
   ]
  },
  {
   "cell_type": "code",
   "execution_count": 29,
   "metadata": {},
   "outputs": [
    {
     "name": "stdout",
     "output_type": "stream",
     "text": [
      "k for reaction0 = 686783.9186429448\n",
      "k for reaction1 = 2310555.9199959813\n"
     ]
    }
   ],
   "source": [
    "#get all reaction elements\n",
    "for i, reaction in enumerate(ctml.find('reactionData').findall('reaction')):\n",
    "    Arrhenius = reaction.find('rateCoeff').find('Arrhenius')\n",
    "    A = float(Arrhenius.find('A').text)\n",
    "    b = float(Arrhenius.find('b').text)\n",
    "    E = float(Arrhenius.find('E').text)\n",
    "    \n",
    "    #calculate rate\n",
    "    k = arrhenius_rate([A,b,E],1500)\n",
    "    \n",
    "    #print rate\n",
    "    print(\"k for reaction{} = {}\".format(i,k))"
   ]
  }
 ],
 "metadata": {
  "kernelspec": {
   "display_name": "Python 3",
   "language": "python",
   "name": "python3"
  },
  "language_info": {
   "codemirror_mode": {
    "name": "ipython",
    "version": 3
   },
   "file_extension": ".py",
   "mimetype": "text/x-python",
   "name": "python",
   "nbconvert_exporter": "python",
   "pygments_lexer": "ipython3",
   "version": "3.6.1"
  }
 },
 "nbformat": 4,
 "nbformat_minor": 2
}
