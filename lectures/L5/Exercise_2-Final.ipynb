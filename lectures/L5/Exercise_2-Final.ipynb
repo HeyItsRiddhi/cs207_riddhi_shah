{
 "cells": [
  {
   "cell_type": "markdown",
   "metadata": {},
   "source": [
    "# Exercise 2\n",
    "Write a function to compute the roots of a mathematical equation of the form\n",
    "\\begin{align}\n",
    "  ax^{2} + bx + c = 0.\n",
    "\\end{align}\n",
    "Your function should be sensitive enough to adapt to situations in which a user might accidentally set $a=0$, or $b=0$, or even $a=b=0$.  For example, if $a=0, b\\neq 0$, your function should print a warning and compute the roots of the resulting linear function.  It is up to you on how to handle the function header: feel free to use default keyword arguments, variable positional arguments, variable keyword arguments, or something else as you see fit.  Try to make it user friendly.\n",
    "\n",
    "Your function should return a tuple containing the roots of the provided equation.\n",
    "\n",
    "**Hint:** Quadratic equations can have complex roots of the form $r = a + ib$ where $i=\\sqrt{-1}$ (Python uses the notation $j=\\sqrt{-1}$).  To deal with complex roots, you should import the `cmath` library and use `cmath.sqrt` when computing square roots.  `cmath` will return a complex number for you.  You could handle complex roots yourself if you want, but you might as well use available libraries to save some work."
   ]
  },
  {
   "cell_type": "code",
   "execution_count": 25,
   "metadata": {},
   "outputs": [
    {
     "name": "stdout",
     "output_type": "stream",
     "text": [
      "WARNING: This is the not a quadratic function!\n",
      "The root of this linear function is:\n",
      "-4.0\n",
      "The roots of this function are real:\n",
      "-1.0\n",
      "1.0\n"
     ]
    }
   ],
   "source": [
    "import cmath\n",
    "import math\n",
    "\n",
    "def find_roots(a,b,c):\n",
    "    #check if quadratic quadratic function\n",
    "    if (a == 0):\n",
    "        if(b==0):\n",
    "            print(\"Error: This is not a function!\")\n",
    "        else:\n",
    "            #linear function find root & give warning\n",
    "            print(\"WARNING: This is the not a quadratic function!\")\n",
    "            print(\"The root of this linear function is:\" )\n",
    "            print(-c/b)\n",
    "    else:\n",
    "        # calculate the discriminant\n",
    "        d = (b**2) - (4*a*c)\n",
    "\n",
    "        # find roots of quadratic\n",
    "        if (d<0):\n",
    "            sqrt = cmath.sqrt(d)\n",
    "            root1 = (-b - sqrt)/(2*a)\n",
    "            root2 = (-b + sqrt)/(2*a)\n",
    "            print(\"The roots of this function are complex:\" )\n",
    "        elif (d>0):\n",
    "            sqrt = math.sqrt(d)\n",
    "            root1 = (-b -sqrt)/(2*a)\n",
    "            root2 = (-b + sqrt)/(2*a)\n",
    "            print(\"The roots of this function are real:\" )\n",
    "        print(root1)\n",
    "        print (root2)\n",
    "\n",
    "find_roots(0,0.5,2)\n",
    "find_roots(1,0,-1)"
   ]
  }
 ],
 "metadata": {
  "kernelspec": {
   "display_name": "Python 3",
   "language": "python",
   "name": "python3"
  },
  "language_info": {
   "codemirror_mode": {
    "name": "ipython",
    "version": 3
   },
   "file_extension": ".py",
   "mimetype": "text/x-python",
   "name": "python",
   "nbconvert_exporter": "python",
   "pygments_lexer": "ipython3",
   "version": "3.6.1"
  }
 },
 "nbformat": 4,
 "nbformat_minor": 2
}
