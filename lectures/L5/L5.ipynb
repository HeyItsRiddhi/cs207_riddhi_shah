{
 "cells": [
  {
   "cell_type": "markdown",
   "metadata": {},
   "source": [
    "# Lecture 5:  Basic Python\n",
    "* Booleans and Control Flow\n",
    "* Functions\n",
    "* Exceptions\n",
    "* Plotting"
   ]
  },
  {
   "cell_type": "markdown",
   "metadata": {},
   "source": [
    "We'll be embedding some HTML into our notebook.  To do so, we need to import a library:"
   ]
  },
  {
   "cell_type": "code",
   "execution_count": 1,
   "metadata": {
    "collapsed": true
   },
   "outputs": [],
   "source": [
    "from IPython.display import HTML"
   ]
  },
  {
   "cell_type": "markdown",
   "metadata": {},
   "source": [
    "We'll also probably use `numpy` so we might as well import it too:"
   ]
  },
  {
   "cell_type": "code",
   "execution_count": 2,
   "metadata": {
    "collapsed": true
   },
   "outputs": [],
   "source": [
    "import numpy as np"
   ]
  },
  {
   "cell_type": "markdown",
   "metadata": {},
   "source": [
    "## Booleans and Control Flow\n",
    "These are pretty standard things in any language.  I'll just show you a little bit of syntax here.\n",
    "\n",
    "However, I will put a slight emphasis on the exception testing.  It's important."
   ]
  },
  {
   "cell_type": "markdown",
   "metadata": {},
   "source": [
    "#### Testing for membership"
   ]
  },
  {
   "cell_type": "code",
   "execution_count": 3,
   "metadata": {},
   "outputs": [
    {
     "name": "stdout",
     "output_type": "stream",
     "text": [
      "False\n",
      "True\n"
     ]
    }
   ],
   "source": [
    "some_primes = [2, 3, 5, 7, 13]\n",
    "print(4 in some_primes)\n",
    "print(13 in some_primes)"
   ]
  },
  {
   "cell_type": "markdown",
   "metadata": {},
   "source": [
    "#### Some basic if/elif/else statements"
   ]
  },
  {
   "cell_type": "code",
   "execution_count": 4,
   "metadata": {},
   "outputs": [
    {
     "name": "stdout",
     "output_type": "stream",
     "text": [
      "x is definitely not prime.\n"
     ]
    }
   ],
   "source": [
    "x = 9\n",
    "if x in some_primes:\n",
    "    print('x is prime!')\n",
    "elif x > 13:\n",
    "    print('x may or may not be prime.')\n",
    "else:\n",
    "    print('x is definitely not prime.')"
   ]
  },
  {
   "cell_type": "markdown",
   "metadata": {},
   "source": [
    "Breaking out of a loop:"
   ]
  },
  {
   "cell_type": "code",
   "execution_count": 5,
   "metadata": {},
   "outputs": [
    {
     "name": "stdout",
     "output_type": "stream",
     "text": [
      "Only even prime.\n"
     ]
    }
   ],
   "source": [
    "for x in some_primes:\n",
    "    if x == 2:\n",
    "        print('Only even prime.')\n",
    "        break\n",
    "        "
   ]
  },
  {
   "cell_type": "markdown",
   "metadata": {},
   "source": [
    "Continuing a loop.  Notice that everything after the continue statement is ignored."
   ]
  },
  {
   "cell_type": "code",
   "execution_count": 6,
   "metadata": {},
   "outputs": [
    {
     "name": "stdout",
     "output_type": "stream",
     "text": [
      "1\n",
      "2\n",
      "3\n",
      "4\n",
      "5\n",
      "Done with this.\n"
     ]
    }
   ],
   "source": [
    "i = 0\n",
    "while i < 10:\n",
    "    i += 1\n",
    "    if i <= 5:\n",
    "        print(i)\n",
    "        continue\n",
    "        print(i-1)\n",
    "    else:\n",
    "        print('Done with this.')\n",
    "        break\n",
    "    "
   ]
  },
  {
   "cell_type": "markdown",
   "metadata": {},
   "source": [
    "#### Some basic exception handling\n",
    "Python has a number of built-in exceptions ([Built-in exceptions](https://docs.python.org/3/library/exceptions.html), [Python Standard Exceptions](https://www.tutorialspoint.com/python/standard_exceptions.htm)).  It is usually a good idea to let Python raise exceptions for you since it's really good at it.  However, there are times when you may want to write your own exception (we won't talk about that now) or when you want to press ahead even in the face of an error.\n",
    "\n",
    "I can make that last statement clearer.  You have two options:  catch and respond to errors when they're raised or ignore them.  If you ignore them, then Python's default exception-handling behavior takes over which will ultimately print out the error message and terminate the program.  If you respond to the errors, then you need to tell your program what to do.  In essence, you will shift the control flow of your program if you choose this second option.\n",
    "\n",
    "Let's look at an example or two."
   ]
  },
  {
   "cell_type": "code",
   "execution_count": 7,
   "metadata": {},
   "outputs": [
    {
     "ename": "ZeroDivisionError",
     "evalue": "float division by zero",
     "output_type": "error",
     "traceback": [
      "\u001b[0;31m---------------------------------------------------------------------------\u001b[0m",
      "\u001b[0;31mZeroDivisionError\u001b[0m                         Traceback (most recent call last)",
      "\u001b[0;32m<ipython-input-7-3b7789856ab2>\u001b[0m in \u001b[0;36m<module>\u001b[0;34m()\u001b[0m\n\u001b[1;32m      1\u001b[0m \u001b[0mx\u001b[0m\u001b[0;34m,\u001b[0m \u001b[0my\u001b[0m \u001b[0;34m=\u001b[0m \u001b[0;36m1.0\u001b[0m\u001b[0;34m,\u001b[0m \u001b[0;36m0.0\u001b[0m\u001b[0;34m\u001b[0m\u001b[0m\n\u001b[0;32m----> 2\u001b[0;31m \u001b[0mz\u001b[0m \u001b[0;34m=\u001b[0m \u001b[0mx\u001b[0m \u001b[0;34m/\u001b[0m \u001b[0my\u001b[0m\u001b[0;34m\u001b[0m\u001b[0m\n\u001b[0m\u001b[1;32m      3\u001b[0m \u001b[0mz\u001b[0m\u001b[0;34m**\u001b[0m\u001b[0;36m2.0\u001b[0m\u001b[0;34m\u001b[0m\u001b[0m\n",
      "\u001b[0;31mZeroDivisionError\u001b[0m: float division by zero"
     ]
    }
   ],
   "source": [
    "x, y = 1.0, 0.0\n",
    "z = x / y\n",
    "z**2.0"
   ]
  },
  {
   "cell_type": "markdown",
   "metadata": {},
   "source": [
    "Python took care of error for us and terminated the program at the second line.\n",
    "\n",
    "But perhaps a division by zero isn't the end of the world.  What if we have a piece-wise function?"
   ]
  },
  {
   "cell_type": "code",
   "execution_count": 8,
   "metadata": {},
   "outputs": [
    {
     "name": "stdout",
     "output_type": "stream",
     "text": [
      "z = 0.0\n"
     ]
    }
   ],
   "source": [
    "x, y = 1.0, 0.0\n",
    "try:\n",
    "    z = x / y\n",
    "except ZeroDivisionError:\n",
    "    z = 0.0\n",
    "print('z = {}'.format(z))"
   ]
  },
  {
   "cell_type": "markdown",
   "metadata": {},
   "source": [
    "This could, of course, have been handled with an `if-else` block.\n",
    "\n",
    "One old motivation for using exception handling is to check the input arguments of a function for validity.  You can still do this, but the latest advice is to just let Python's exception handler deal with it and terminate the program if need be."
   ]
  },
  {
   "cell_type": "markdown",
   "metadata": {},
   "source": [
    "## Functions\n",
    "#### Python functions are first class:\n",
    "* You can assign variables to them\n",
    "* You can pass them into functions\n",
    "* You can return them from functions\n",
    "\n"
   ]
  },
  {
   "cell_type": "markdown",
   "metadata": {},
   "source": [
    "### Example: "
   ]
  },
  {
   "cell_type": "code",
   "execution_count": 9,
   "metadata": {},
   "outputs": [
    {
     "name": "stdout",
     "output_type": "stream",
     "text": [
      "Original maximum gives 13 and new maximum gives 13.\n"
     ]
    }
   ],
   "source": [
    "alist = [1,13,5,7]\n",
    "newmax = max # Assign newmax to the function max\n",
    "mymax1 = max(alist) # Get the maximum of the list using the max built-in\n",
    "mymax2 = newmax(alist) # Get the maximum of the list using the new max function\n",
    "print('Original maximum gives {0} and new maximum gives {1}.'.format(mymax1, mymax2))"
   ]
  },
  {
   "cell_type": "markdown",
   "metadata": {},
   "source": [
    "The syntax for defining functions is pretty straightforward."
   ]
  },
  {
   "cell_type": "code",
   "execution_count": 10,
   "metadata": {
    "collapsed": true
   },
   "outputs": [],
   "source": [
    "def rect(w,h):\n",
    "    return w * h\n",
    "def circle(r):\n",
    "    return np.pi * r * r\n",
    "def parabola(x, a, b, c):\n",
    "    return a * x * x + b * x + c"
   ]
  },
  {
   "cell_type": "markdown",
   "metadata": {},
   "source": [
    "Notice that the function name is preceeded by the keyword `def`.  The end of the line **must** have a colon!  The function body is indented.  The quantity to be returned is returned using the `return` statement.\n",
    "\n",
    "Because functions are first class, we can pass functions to other functions."
   ]
  },
  {
   "cell_type": "code",
   "execution_count": 11,
   "metadata": {
    "collapsed": true
   },
   "outputs": [],
   "source": [
    "def parab_extrema(a, b, c, parab):\n",
    "    x_extreme = - b / 2.0 / a # Location of max or min\n",
    "    x_left = x_extreme - 1.0  # Point to the left of max or min\n",
    "    x_right = x_extreme + 1.0 # Point to the right of max or min\n",
    "    p_left = parab(x_left, a, b, c) # Value at left point\n",
    "    p_right = parab(x_right, a, b, c) # Value at right point\n",
    "    p_extreme = parab(x_extreme, a, b, c) # Value at max or min\n",
    "    # Check if extremum is maximum or minimum and print out result\n",
    "    if (p_left > p_extreme) & (p_right > p_extreme):\n",
    "        print('The extremum for this parabola has coordinates ({x:4.3f}, {y:4.3f}) and is a minimum.'.format(x=x_extreme, y=p_extreme))\n",
    "    elif (p_left < p_extreme) & (p_right < p_extreme):\n",
    "        print('The extremum for this parabola has coordinates ({x:4.3f}, {y:4.3f}) and is a maximum.'.format(x=x_extreme, y=p_extreme))\n",
    "    else:\n",
    "        print('Something went wrong.')"
   ]
  },
  {
   "cell_type": "code",
   "execution_count": 12,
   "metadata": {},
   "outputs": [
    {
     "name": "stdout",
     "output_type": "stream",
     "text": [
      "The extremum for this parabola has coordinates (-2.500, -4.250) and is a minimum.\n",
      "The extremum for this parabola has coordinates (-0.500, 6.250) and is a maximum.\n"
     ]
    }
   ],
   "source": [
    "a, b, c = 0.2, 1.0, -3.0\n",
    "parab_extrema(a, b, c, parabola)\n",
    "a, b, c = -5.0, -5.0, 5.0\n",
    "parab_extrema(a, b, c, parabola)"
   ]
  },
  {
   "cell_type": "markdown",
   "metadata": {},
   "source": [
    "There are some other convenient ways to interact with function arguments.\n",
    "\n",
    "One thing you may wish to do is provide a default argument to the function.  If that argument is not specified when the function is called, then the default value is assumed.  This is a type of keyword argument.\n",
    "\n",
    "Let's return to our nice parabola example.  We'll make $b=0$ the default."
   ]
  },
  {
   "cell_type": "code",
   "execution_count": 13,
   "metadata": {
    "collapsed": true
   },
   "outputs": [],
   "source": [
    "def parabola(x, a, c, b=0.0):\n",
    "    return a * x * x + b * x + c"
   ]
  },
  {
   "cell_type": "markdown",
   "metadata": {},
   "source": [
    "Notice that we had to move our default argument to a position _after_ the mandatory arguments.  That hurts the readability a little bit in this example, but we'll press forward regardless.\n",
    "\n",
    "Now call the `parab_extreme() function` again."
   ]
  },
  {
   "cell_type": "code",
   "execution_count": 14,
   "metadata": {
    "collapsed": true
   },
   "outputs": [],
   "source": [
    "def parab_extrema(a, b, c, parab):\n",
    "    x_extreme = - b / 2.0 / a # Location of max or min\n",
    "    x_left = x_extreme - 1.0  # Point to the left of max or min\n",
    "    x_right = x_extreme + 1.0 # Point to the right of max or min\n",
    "    p_left = parab(x_left, a, c) # Value at left point\n",
    "    p_right = parab(x_right, a, c) # Value at right point\n",
    "    p_extreme = parab(x_extreme, a, c) # Value at max or min\n",
    "    # Check if extremum is maximum or minimum and print out result\n",
    "    if (p_left > p_extreme) & (p_right > p_extreme):\n",
    "        print('The extremum for this parabola has coordinates ({x:4.3f}, {y:4.3f}) and is a minimum.'.format(x=x_extreme, y=p_extreme))\n",
    "    elif (p_left < p_extreme) & (p_right < p_extreme):\n",
    "        print('The extremum for this parabola has coordinates ({x:4.3f}, {y:4.3f}) and is a maximum.'.format(x=x_extreme, y=p_extreme))\n",
    "    else:\n",
    "        print('Something went wrong.')"
   ]
  },
  {
   "cell_type": "markdown",
   "metadata": {},
   "source": [
    "We changed the [API](https://en.wikipedia.org/wiki/Application_programming_interface) a little bit and so we had to update the calls to `parab()`.  However, everything works just fine if we're careful."
   ]
  },
  {
   "cell_type": "markdown",
   "metadata": {},
   "source": [
    "It's probably better to give all the parameter arguments default values.  Let's re-write the API again."
   ]
  },
  {
   "cell_type": "code",
   "execution_count": 15,
   "metadata": {},
   "outputs": [
    {
     "name": "stdout",
     "output_type": "stream",
     "text": [
      "The extremum for this parabola has coordinates (0.500, -1.250) and is a minimum.\n"
     ]
    }
   ],
   "source": [
    "def parabola(x, a=1.0, b=-1.0, c=-1.0):\n",
    "    return a * x * x + b * x + c\n",
    "\n",
    "def parab_extrema(parab, a=1.0, b=-1.0, c=-1.0):\n",
    "    x_extreme = - b / 2.0 / a # Location of max or min\n",
    "    x_left = x_extreme - 1.0  # Point to the left of max or min\n",
    "    x_right = x_extreme + 1.0 # Point to the right of max or min\n",
    "    p_left = parab(x_left, a, b, c) # Value at left point\n",
    "    p_right = parab(x_right, a, b, c) # Value at right point\n",
    "    p_extreme = parab(x_extreme, a, b, c) # Value at max or min\n",
    "    # Check if extremum is maximum or minimum and print out result\n",
    "    if (p_left > p_extreme) & (p_right > p_extreme):\n",
    "        print('The extremum for this parabola has coordinates ({x:4.3f}, {y:4.3f}) and is a minimum.'.format(x=x_extreme, y=p_extreme))\n",
    "    elif (p_left < p_extreme) & (p_right < p_extreme):\n",
    "        print('The extremum for this parabola has coordinates ({x:4.3f}, {y:4.3f}) and is a maximum.'.format(x=x_extreme, y=p_extreme))\n",
    "    else:\n",
    "        print('Something went wrong.')\n",
    "\n",
    "parab_extrema(parabola)"
   ]
  },
  {
   "cell_type": "markdown",
   "metadata": {},
   "source": [
    "Great!  Looks pretty nice.\n",
    "\n",
    "But there's more!  We can also provide _positional_ and _keyword_ arguments to a function.  This allows permits a variable number of arguments to be passed to a function.\n",
    "\n",
    "* positional arguments:  ```def: func(*args)```\n",
    "  + Python collects all the remaining positional arguments into a tuple.  You can then access the tuple with the usual indexing.\n",
    "* keyword arguments:  ```def: func(**kwargs)```\n",
    "  + Python collects all the remaining keyword arguments into a dictionary.  You can then access the dictionary with the usual indexing."
   ]
  },
  {
   "cell_type": "markdown",
   "metadata": {},
   "source": [
    "### Variable Positional Arguments\n",
    "We will once again work with the quadratic equation example.  This time, we'll just work with the `parabola` function to save some space.  Let's change the `parabola` function to permit a variable number of arguments."
   ]
  },
  {
   "cell_type": "code",
   "execution_count": 16,
   "metadata": {},
   "outputs": [
    {
     "data": {
      "text/plain": [
       "-1.0"
      ]
     },
     "execution_count": 16,
     "metadata": {},
     "output_type": "execute_result"
    }
   ],
   "source": [
    "def parabola(x, *args):\n",
    "    return args[0] * x * x + args[1] * x + args[2]\n",
    "parabola(1.0, 1.0, -1.0, -1.0)"
   ]
  },
  {
   "cell_type": "markdown",
   "metadata": {},
   "source": [
    "Seems to work okay.  But this is not a very robust code.  Everything breaks if we don't provide the exact number of necessary arguments."
   ]
  },
  {
   "cell_type": "code",
   "execution_count": 17,
   "metadata": {},
   "outputs": [
    {
     "ename": "IndexError",
     "evalue": "tuple index out of range",
     "output_type": "error",
     "traceback": [
      "\u001b[0;31m---------------------------------------------------------------------------\u001b[0m",
      "\u001b[0;31mIndexError\u001b[0m                                Traceback (most recent call last)",
      "\u001b[0;32m<ipython-input-17-4a52e1254eed>\u001b[0m in \u001b[0;36m<module>\u001b[0;34m()\u001b[0m\n\u001b[0;32m----> 1\u001b[0;31m \u001b[0mparabola\u001b[0m\u001b[0;34m(\u001b[0m\u001b[0;36m1.0\u001b[0m\u001b[0;34m)\u001b[0m\u001b[0;34m\u001b[0m\u001b[0m\n\u001b[0m",
      "\u001b[0;32m<ipython-input-16-f85ec532a54e>\u001b[0m in \u001b[0;36mparabola\u001b[0;34m(x, *args)\u001b[0m\n\u001b[1;32m      1\u001b[0m \u001b[0;32mdef\u001b[0m \u001b[0mparabola\u001b[0m\u001b[0;34m(\u001b[0m\u001b[0mx\u001b[0m\u001b[0;34m,\u001b[0m \u001b[0;34m*\u001b[0m\u001b[0margs\u001b[0m\u001b[0;34m)\u001b[0m\u001b[0;34m:\u001b[0m\u001b[0;34m\u001b[0m\u001b[0m\n\u001b[0;32m----> 2\u001b[0;31m     \u001b[0;32mreturn\u001b[0m \u001b[0margs\u001b[0m\u001b[0;34m[\u001b[0m\u001b[0;36m0\u001b[0m\u001b[0;34m]\u001b[0m \u001b[0;34m*\u001b[0m \u001b[0mx\u001b[0m \u001b[0;34m*\u001b[0m \u001b[0mx\u001b[0m \u001b[0;34m+\u001b[0m \u001b[0margs\u001b[0m\u001b[0;34m[\u001b[0m\u001b[0;36m1\u001b[0m\u001b[0;34m]\u001b[0m \u001b[0;34m*\u001b[0m \u001b[0mx\u001b[0m \u001b[0;34m+\u001b[0m \u001b[0margs\u001b[0m\u001b[0;34m[\u001b[0m\u001b[0;36m2\u001b[0m\u001b[0;34m]\u001b[0m\u001b[0;34m\u001b[0m\u001b[0m\n\u001b[0m\u001b[1;32m      3\u001b[0m \u001b[0mparabola\u001b[0m\u001b[0;34m(\u001b[0m\u001b[0;36m1.0\u001b[0m\u001b[0;34m,\u001b[0m \u001b[0;36m1.0\u001b[0m\u001b[0;34m,\u001b[0m \u001b[0;34m-\u001b[0m\u001b[0;36m1.0\u001b[0m\u001b[0;34m,\u001b[0m \u001b[0;34m-\u001b[0m\u001b[0;36m1.0\u001b[0m\u001b[0;34m)\u001b[0m\u001b[0;34m\u001b[0m\u001b[0m\n",
      "\u001b[0;31mIndexError\u001b[0m: tuple index out of range"
     ]
    }
   ],
   "source": [
    "parabola(1.0)"
   ]
  },
  {
   "cell_type": "markdown",
   "metadata": {},
   "source": [
    "### Variable keyword arguments\n",
    "We can make our API more flexible.  Let's give more descriptive names to the coefficients $a$, $b$, and $c$.  We'll call $a$ the `width` since it controls the width of the parabola, $b$ `trans` since it controls the horizontal translation of the parabola, and we'll call $c$ `shift` since it controls the verticle shift of the parabola.  Our `parabola` function might now look like:"
   ]
  },
  {
   "cell_type": "code",
   "execution_count": 18,
   "metadata": {
    "collapsed": true
   },
   "outputs": [],
   "source": [
    "def parabola(x, **kwargs):\n",
    "    print(kwargs)\n",
    "    return kwargs['width'] * x * x + kwargs['trans'] * x + kwargs['shift']"
   ]
  },
  {
   "cell_type": "markdown",
   "metadata": {},
   "source": [
    "Calling it gives:"
   ]
  },
  {
   "cell_type": "code",
   "execution_count": 19,
   "metadata": {},
   "outputs": [
    {
     "name": "stdout",
     "output_type": "stream",
     "text": [
      "{'width': 1.0, 'trans': -1.0, 'shift': -1.0}\n"
     ]
    },
    {
     "data": {
      "text/plain": [
       "-1.0"
      ]
     },
     "execution_count": 19,
     "metadata": {},
     "output_type": "execute_result"
    }
   ],
   "source": [
    "parabola(1.0, width=1.0, trans=-1.0, shift=-1.0)"
   ]
  },
  {
   "cell_type": "markdown",
   "metadata": {},
   "source": [
    "**Note:** Using variable positional and keyword arguments provides exceptional flexibility in how you design your programs."
   ]
  },
  {
   "cell_type": "markdown",
   "metadata": {},
   "source": [
    "One final note about variable arguments:  You can perform the reverse operation by passing in the `*` or `**` operators to the function.  This will _unpack_ the arguments whereas the previous pattern _packed_ the arguments.  Let's take a quick look."
   ]
  },
  {
   "cell_type": "code",
   "execution_count": 20,
   "metadata": {
    "collapsed": true
   },
   "outputs": [],
   "source": [
    "def parabola(x, a, b, c):\n",
    "    return a * x * x + b * x + c"
   ]
  },
  {
   "cell_type": "code",
   "execution_count": 21,
   "metadata": {},
   "outputs": [
    {
     "data": {
      "text/plain": [
       "-1.0"
      ]
     },
     "execution_count": 21,
     "metadata": {},
     "output_type": "execute_result"
    }
   ],
   "source": [
    "# Store coefficients in a list\n",
    "coeffs = [1.0, -1.0, -1.0]\n",
    "parabola(1.0, *coeffs)\n",
    "\n",
    "# Store coefficients in a dictionary\n",
    "coeffs = {'a':1.0, 'b':-1.0, 'c':-1.0}\n",
    "parabola(1.0, **coeffs)"
   ]
  },
  {
   "cell_type": "markdown",
   "metadata": {
    "collapsed": true
   },
   "source": [
    "---\n",
    "## Plotting\n",
    "There are many, many ways to make plots in Python.  The most common way is to use [`matplotlib`](https://matplotlib.org/).\n",
    "\n",
    "Another package, which is gaining popularity, is called [`seaborn`](https://seaborn.pydata.org/).\n",
    "\n",
    "I don't care which package you use, as long as your plots are readable and reproducible."
   ]
  },
  {
   "cell_type": "markdown",
   "metadata": {},
   "source": [
    "To make plots in the Jupyter notbook, you need to include the line `%matplotlib inline` before you make any plots.  This line ensures that the plots will be displayed in your notebook and not in a separate window."
   ]
  },
  {
   "cell_type": "code",
   "execution_count": 22,
   "metadata": {
    "collapsed": true
   },
   "outputs": [],
   "source": [
    "%matplotlib inline"
   ]
  },
  {
   "cell_type": "markdown",
   "metadata": {},
   "source": [
    "Next, you should import matplotlib:"
   ]
  },
  {
   "cell_type": "code",
   "execution_count": 23,
   "metadata": {
    "collapsed": true
   },
   "outputs": [],
   "source": [
    "import matplotlib               # Import all of matplotlib\n",
    "import matplotlib.pyplot as plt # Only import pyplot (which includes the plot function) and give it the alias `plt`"
   ]
  },
  {
   "cell_type": "markdown",
   "metadata": {},
   "source": [
    "Now you're basically ready to do some plots.\n",
    "\n",
    "**WARNING!** When making plots in an actual Python script, you must **always** include the command `plt.show()` at the **end** of your program.  **Always.** If you don't do so, then your plots will not display and you will be wondering where they are.  However, when plotting in the Jupyter notebook, there is no need to use `plt.show()`."
   ]
  },
  {
   "cell_type": "markdown",
   "metadata": {},
   "source": [
    "We can generate some toy data using `numpy`."
   ]
  },
  {
   "cell_type": "code",
   "execution_count": 24,
   "metadata": {
    "collapsed": true
   },
   "outputs": [],
   "source": [
    "x = np.linspace(-2.0*np.pi, 2.0*np.pi, 500) # x-grid\n",
    "ys = np.sin(x) # sin function\n",
    "yc = np.cos(x) # cos function"
   ]
  },
  {
   "cell_type": "markdown",
   "metadata": {},
   "source": [
    "Now plot!"
   ]
  },
  {
   "cell_type": "code",
   "execution_count": 1,
   "metadata": {},
   "outputs": [
    {
     "ename": "NameError",
     "evalue": "name 'plt' is not defined",
     "output_type": "error",
     "traceback": [
      "\u001b[0;31m---------------------------------------------------------------------------\u001b[0m",
      "\u001b[0;31mNameError\u001b[0m                                 Traceback (most recent call last)",
      "\u001b[0;32m<ipython-input-1-26c668fb26da>\u001b[0m in \u001b[0;36m<module>\u001b[0;34m()\u001b[0m\n\u001b[0;32m----> 1\u001b[0;31m \u001b[0mplt\u001b[0m\u001b[0;34m.\u001b[0m\u001b[0mplot\u001b[0m\u001b[0;34m(\u001b[0m\u001b[0mx\u001b[0m\u001b[0;34m,\u001b[0m \u001b[0mys\u001b[0m\u001b[0;34m,\u001b[0m \u001b[0mlw\u001b[0m\u001b[0;34m=\u001b[0m\u001b[0;36m4\u001b[0m\u001b[0;34m,\u001b[0m \u001b[0mls\u001b[0m\u001b[0;34m=\u001b[0m\u001b[0;34m'-'\u001b[0m\u001b[0;34m,\u001b[0m \u001b[0mlabel\u001b[0m\u001b[0;34m=\u001b[0m\u001b[0;34mr'$\\sin(x)$'\u001b[0m\u001b[0;34m)\u001b[0m  \u001b[0;31m# linewidth = 4, linestyle = solid, raw string label\u001b[0m\u001b[0;34m\u001b[0m\u001b[0m\n\u001b[0m\u001b[1;32m      2\u001b[0m \u001b[0mplt\u001b[0m\u001b[0;34m.\u001b[0m\u001b[0mplot\u001b[0m\u001b[0;34m(\u001b[0m\u001b[0mx\u001b[0m\u001b[0;34m,\u001b[0m \u001b[0myc\u001b[0m\u001b[0;34m,\u001b[0m \u001b[0mlw\u001b[0m\u001b[0;34m=\u001b[0m\u001b[0;36m4\u001b[0m\u001b[0;34m,\u001b[0m \u001b[0mls\u001b[0m\u001b[0;34m=\u001b[0m\u001b[0;34m'--'\u001b[0m\u001b[0;34m,\u001b[0m \u001b[0mlabel\u001b[0m\u001b[0;34m=\u001b[0m\u001b[0;34mr'$\\cos(x)$'\u001b[0m\u001b[0;34m)\u001b[0m\u001b[0;34m\u001b[0m\u001b[0m\n\u001b[1;32m      3\u001b[0m \u001b[0mplt\u001b[0m\u001b[0;34m.\u001b[0m\u001b[0mlegend\u001b[0m\u001b[0;34m(\u001b[0m\u001b[0;34m)\u001b[0m \u001b[0;31m# show legend\u001b[0m\u001b[0;34m\u001b[0m\u001b[0m\n\u001b[1;32m      4\u001b[0m \u001b[0mplt\u001b[0m\u001b[0;34m.\u001b[0m\u001b[0mxlabel\u001b[0m\u001b[0;34m(\u001b[0m\u001b[0;34mr'$x$'\u001b[0m\u001b[0;34m,\u001b[0m \u001b[0mfontsize\u001b[0m\u001b[0;34m=\u001b[0m\u001b[0;36m24\u001b[0m\u001b[0;34m)\u001b[0m \u001b[0;31m# label x axis\u001b[0m\u001b[0;34m\u001b[0m\u001b[0m\n\u001b[1;32m      5\u001b[0m \u001b[0mplt\u001b[0m\u001b[0;34m.\u001b[0m\u001b[0mylabel\u001b[0m\u001b[0;34m(\u001b[0m\u001b[0;34mr'$y$'\u001b[0m\u001b[0;34m,\u001b[0m \u001b[0mfontsize\u001b[0m\u001b[0;34m=\u001b[0m\u001b[0;36m24\u001b[0m\u001b[0;34m)\u001b[0m \u001b[0;31m# label y axis\u001b[0m\u001b[0;34m\u001b[0m\u001b[0m\n",
      "\u001b[0;31mNameError\u001b[0m: name 'plt' is not defined"
     ]
    }
   ],
   "source": [
    "plt.plot(x, ys, lw=4, ls='-', label=r'$\\sin(x)$')  # linewidth = 4, linestyle = solid, raw string label\n",
    "plt.plot(x, yc, lw=4, ls='--', label=r'$\\cos(x)$')\n",
    "plt.legend() # show legend\n",
    "plt.xlabel(r'$x$', fontsize=24) # label x axis\n",
    "plt.ylabel(r'$y$', fontsize=24) # label y axis\n",
    "plt.title('Sine and Cosine', fontsize=24)"
   ]
  },
  {
   "cell_type": "markdown",
   "metadata": {},
   "source": [
    "Notice that we used a few things:\n",
    "1. We changed the line widths\n",
    "2. We changed the line style\n",
    "3. We labeled the plots\n",
    "4. We changed the font size of the labels\n",
    "\n",
    "We also use a `raw string` because we're including Latex commands to render mathematics.  A `raw string` is preceeded by the letter `r`."
   ]
  },
  {
   "cell_type": "markdown",
   "metadata": {},
   "source": [
    "There is **much** more to plotting than this example, but this should get you started.  Some things you may want to look up are how to change the size of the tick marks and tick labels and how to use a `config` file: [Customizing a Plot](https://matplotlib.org/users/customizing.html).  You may also want to understand _contour_ plots as well as _scatter_ plots and other statistical plots such as `pdfs` and `histograms`.  Note that `seaborn` has fantastic support for statistical plots."
   ]
  }
 ],
 "metadata": {
  "kernelspec": {
   "display_name": "Python 3",
   "language": "python",
   "name": "python3"
  },
  "language_info": {
   "codemirror_mode": {
    "name": "ipython",
    "version": 3
   },
   "file_extension": ".py",
   "mimetype": "text/x-python",
   "name": "python",
   "nbconvert_exporter": "python",
   "pygments_lexer": "ipython3",
   "version": "3.6.1"
  }
 },
 "nbformat": 4,
 "nbformat_minor": 2
}
