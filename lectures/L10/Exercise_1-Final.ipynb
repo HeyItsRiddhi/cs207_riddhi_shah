{
 "cells": [
  {
   "cell_type": "markdown",
   "metadata": {},
   "source": [
    "# Exercise 1\n",
    "Write a subclass called `Rcircle` of the superclass `Circle`.\n",
    "\n",
    "####  Requirements\n",
    "* Must inherit from `Circle`\n",
    "* Must have it's own constructor.  The constructor accepts the circle radius supplied by the user as its argument.  That is `__init__(self, r)`.\n",
    "* The circle radius must be set in the constructor\n",
    "* The `Rcircle` subclass must reimplement the `radius` function.  It does not make sense for `Rcircle` to inherit the `radius` method from `Circle` since an instance of `Rcircle` doesn't know anything about the coordinates of the circle.\n",
    "* Include the `__eq__` special method to compare two circles.\n",
    "\n",
    "Demo your class.\n",
    "\n",
    "Your `Circle` class from last time should have looked something like this:"
   ]
  },
  {
   "cell_type": "code",
   "execution_count": 8,
   "metadata": {
    "collapsed": true
   },
   "outputs": [],
   "source": [
    "import math\n",
    "class CircleClass():\n",
    "    def __init__(self, x, y):\n",
    "        self.x = x\n",
    "        self.y = y\n",
    "    def radius(self):\n",
    "        r2 = self.x**2 + self.y**2\n",
    "        r = math.sqrt(r2)\n",
    "        return r\n",
    "    def area(self):\n",
    "        r = self.radius()\n",
    "        area = math.pi*(r**2)\n",
    "        return area\n",
    "    def circumference(self): \n",
    "        r = self.radius()\n",
    "        c = 2*math.pi*r\n",
    "        return c\n"
   ]
  },
  {
   "cell_type": "code",
   "execution_count": 9,
   "metadata": {},
   "outputs": [
    {
     "name": "stdout",
     "output_type": "stream",
     "text": [
      "4\n",
      "False\n"
     ]
    }
   ],
   "source": [
    "class Rcircle(CircleClass):\n",
    "    def  __init__(self, r):\n",
    "        self.r = r\n",
    "    def radius(self):\n",
    "        return self.r\n",
    "    def __eq__(self,other):\n",
    "        return self.r == other.r\n",
    "mycircle = Rcircle(4)\n",
    "othercircle = Rcircle(5)\n",
    "print(mycircle.radius())\n",
    "print(mycircle == othercircle)"
   ]
  }
 ],
 "metadata": {
  "kernelspec": {
   "display_name": "Python 3",
   "language": "python",
   "name": "python3"
  },
  "language_info": {
   "codemirror_mode": {
    "name": "ipython",
    "version": 3
   },
   "file_extension": ".py",
   "mimetype": "text/x-python",
   "name": "python",
   "nbconvert_exporter": "python",
   "pygments_lexer": "ipython3",
   "version": "3.6.1"
  }
 },
 "nbformat": 4,
 "nbformat_minor": 2
}
