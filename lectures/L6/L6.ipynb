{
 "cells": [
  {
   "cell_type": "markdown",
   "metadata": {},
   "source": [
    "# Lecture 6:  Wednesday, September 20th 2017\n",
    "Topics:\n",
    "* Nested environments\n",
    "* Closures\n",
    "* Decorators"
   ]
  },
  {
   "cell_type": "markdown",
   "metadata": {},
   "source": [
    "Before we begin, there is something that you should know about.  It's [http://pythontutor.com/](http://pythontutor.com/) and it's a great way to learn what is going on under the hood when you write Python.  You can visualize the Python code you write:  [Visualize](http://pythontutor.com/visualize.html#mode=edit).  I'll have you test out and visualize some very small scripts using that website."
   ]
  },
  {
   "cell_type": "markdown",
   "metadata": {},
   "source": [
    "## Nested Environments\n",
    "You can nest the definitions of functions. When you do this, inner function definitions are not even evaluated until the outer function is called. These inner functions have access to the name bindings in the scope of the outer function. So below, in `make_stateful_function`, both `x` and `print_tuple` will be defined. And in `print_tuple`, you have access to `x`. This sharing is called *lexical scoping*. "
   ]
  },
  {
   "cell_type": "code",
   "execution_count": null,
   "metadata": {
    "collapsed": true
   },
   "outputs": [],
   "source": [
    "def make_coords(x):\n",
    "    def coords(y):\n",
    "        c=(x, y)\n",
    "        return c\n",
    "    return coords\n",
    "coordinates = make_coords(1.0)\n",
    "#we have captured the first element of the tuple as a \"kind of state\"\n",
    "output=stateful_func(2.0)\n",
    "print(output)\n",
    "output2=stateful_func(\"green\")\n",
    "print(output2)"
   ]
  }
 ],
 "metadata": {
  "kernelspec": {
   "display_name": "Python 3",
   "language": "python",
   "name": "python3"
  },
  "language_info": {
   "codemirror_mode": {
    "name": "ipython",
    "version": 3
   },
   "file_extension": ".py",
   "mimetype": "text/x-python",
   "name": "python",
   "nbconvert_exporter": "python",
   "pygments_lexer": "ipython3",
   "version": "3.6.1"
  }
 },
 "nbformat": 4,
 "nbformat_minor": 2
}
