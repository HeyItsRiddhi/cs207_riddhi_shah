{
 "cells": [
  {
   "cell_type": "markdown",
   "metadata": {},
   "source": [
    "# Exercise 1"
   ]
  },
  {
   "cell_type": "code",
   "execution_count": 1,
   "metadata": {},
   "outputs": [
    {
     "name": "stdout",
     "output_type": "stream",
     "text": [
      "The correct answer is:  42.0000000000000000.\n"
     ]
    }
   ],
   "source": [
    "def create_common_message(message):\n",
    "    def print_value(x):\n",
    "        send_message = message + '{0:17.16f}.'\n",
    "        print(send_message.format(x))\n",
    "    return print_value\n",
    "\n",
    "correct_answer_is = create_common_message(\"The correct answer is:  \")\n",
    "correct_answer_is(42.0)"
   ]
  }
 ],
 "metadata": {
  "kernelspec": {
   "display_name": "Python 3",
   "language": "python",
   "name": "python3"
  },
  "language_info": {
   "codemirror_mode": {
    "name": "ipython",
    "version": 3
   },
   "file_extension": ".py",
   "mimetype": "text/x-python",
   "name": "python",
   "nbconvert_exporter": "python",
   "pygments_lexer": "ipython3",
   "version": "3.6.1"
  }
 },
 "nbformat": 4,
 "nbformat_minor": 2
}
