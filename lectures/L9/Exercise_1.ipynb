{
 "cells": [
  {
   "cell_type": "markdown",
   "metadata": {},
   "source": [
    "# Exercise 1\n",
    "\n",
    "Write a `Circle` class.\n",
    "\n",
    "#### Requirements:\n",
    "* An instance of the `Circle` class should take $x$ and $y$ coordinates of the circle.\n",
    "* You must include the initializer constructor (`__init__`).\n",
    "* Include methods to compute the radius, area, and circumference of the circle\n",
    "* Demo your `Circle` class"
   ]
  },
  {
   "cell_type": "code",
   "execution_count": 8,
   "metadata": {
    "collapsed": true
   },
   "outputs": [],
   "source": [
    "import math\n",
    "class CircleClass():\n",
    "    def __init__(self, x, y):\n",
    "        self.x = x\n",
    "        self.y = y\n",
    "    def radius(self):\n",
    "        r2 = self.x**2 + self.y**2\n",
    "        r = math.sqrt(r2)\n",
    "        return r\n",
    "    def area(self):\n",
    "        r = self.radius()\n",
    "        area = math.pi*(r**2)\n",
    "        return area\n",
    "    def circumference(self): \n",
    "        r = self.radius()\n",
    "        c = 2*math.pi*r\n",
    "        return c    "
   ]
  },
  {
   "cell_type": "code",
   "execution_count": 9,
   "metadata": {},
   "outputs": [
    {
     "name": "stdout",
     "output_type": "stream",
     "text": [
      "5.0\n",
      "78.53981633974483\n",
      "31.41592653589793\n"
     ]
    }
   ],
   "source": [
    "circle = CircleClass(3,4)\n",
    "print(circle.radius())\n",
    "print(circle.area())\n",
    "print(circle.circumference())"
   ]
  }
 ],
 "metadata": {
  "kernelspec": {
   "display_name": "Python 3",
   "language": "python",
   "name": "python3"
  },
  "language_info": {
   "codemirror_mode": {
    "name": "ipython",
    "version": 3
   },
   "file_extension": ".py",
   "mimetype": "text/x-python",
   "name": "python",
   "nbconvert_exporter": "python",
   "pygments_lexer": "ipython3",
   "version": "3.6.1"
  }
 },
 "nbformat": 4,
 "nbformat_minor": 2
}
