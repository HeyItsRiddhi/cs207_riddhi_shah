{
 "cells": [
  {
   "cell_type": "code",
   "execution_count": 37,
   "metadata": {
    "collapsed": true
   },
   "outputs": [],
   "source": [
    "#Generator implmentation ~ one class with both iter and iterable \n",
    "class Sentence: # An iterable\n",
    "    def __init__(self, text): \n",
    "        self.text = text\n",
    "        self.words = text.split()\n",
    "    \n",
    "    def __iter__(self):\n",
    "        yield from self.words\n",
    "    \n",
    "    def __repr__(self):\n",
    "        return 'Sentence(%s)' % reprlib.repr(self.text)"
   ]
  },
  {
   "cell_type": "code",
   "execution_count": 38,
   "metadata": {},
   "outputs": [
    {
     "name": "stdout",
     "output_type": "stream",
     "text": [
      "Dogs\n",
      "will\n",
      "save\n",
      "the\n",
      "world\n",
      "and\n",
      "cats\n",
      "will\n",
      "eat\n",
      "it.\n"
     ]
    }
   ],
   "source": [
    "#Test Implementation with while loop printing\n",
    "phrase = Sentence(\"Dogs will save the world and cats will eat it.\")\n",
    "gen = phrase.__iter__()\n",
    "while True:\n",
    "    try:\n",
    "        print(next(gen))\n",
    "    except StopIteration:\n",
    "        break"
   ]
  },
  {
   "cell_type": "code",
   "execution_count": 39,
   "metadata": {},
   "outputs": [
    {
     "name": "stdout",
     "output_type": "stream",
     "text": [
      "Dogs\n",
      "will\n",
      "save\n",
      "the\n",
      "world\n",
      "and\n",
      "cats\n",
      "will\n",
      "eat\n",
      "it.\n"
     ]
    }
   ],
   "source": [
    "#Test Implementation 2 ~ just another way to do it\n",
    "phrase = Sentence(\"Dogs will save the world and cats will eat it.\")\n",
    "gen = phrase.__iter__()\n",
    "for word in phrase:\n",
    "    print(next(gen))"
   ]
  }
 ],
 "metadata": {
  "kernelspec": {
   "display_name": "Python 3",
   "language": "python",
   "name": "python3"
  },
  "language_info": {
   "codemirror_mode": {
    "name": "ipython",
    "version": 3
   },
   "file_extension": ".py",
   "mimetype": "text/x-python",
   "name": "python",
   "nbconvert_exporter": "python",
   "pygments_lexer": "ipython3",
   "version": "3.6.1"
  }
 },
 "nbformat": 4,
 "nbformat_minor": 2
}
