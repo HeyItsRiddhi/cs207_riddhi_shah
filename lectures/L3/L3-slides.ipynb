{
 "cells": [
  {
   "cell_type": "markdown",
   "metadata": {
    "slideshow": {
     "slide_type": "slide"
    }
   },
   "source": [
    "# Lecture 3:  Branches in `Git`"
   ]
  },
  {
   "cell_type": "markdown",
   "metadata": {
    "slideshow": {
     "slide_type": "slide"
    }
   },
   "source": [
    "* We have encountered branches a few times so far but we haven't really said much about what they are or why they're important.  They are very important.  In fact, they form a core piece of the `Git` workflow.\n",
    "\n",
    "* A `Git` branch is a \"Sticky Note\" on the graph.  All branch work takes place within the same folder within your file system.  When you switch branches you are moving the \"Sticky Note\".\n",
    "\n",
    "* Suppose you have a newly initialized repository.  Your first commit is represented by the **A** block in the figure below. ![inital_commit](figs/initial_commit.png)\n",
    "\n",
    "A default branch is created and `Git` named it `master`.  The name `master` has not special meaning to `Git`."
   ]
  },
  {
   "cell_type": "markdown",
   "metadata": {
    "slideshow": {
     "slide_type": "slide"
    }
   },
   "source": [
    "Now suppose we make a set of two commits (**B** and **C**).  The `master` branch (and our pointer) moves along. ![two_commits](figs/two_commits.png)"
   ]
  },
  {
   "cell_type": "markdown",
   "metadata": {
    "slideshow": {
     "slide_type": "slide"
    }
   },
   "source": [
    "So far so good.  Suddenly we find a bug!  We could work on the bug in `master` but that's not really a good idea.  It would make a lot more sense to `branch` off of `master` and fix the bug on its own `branch`.  That way, we don't interfere with things on `master`.  We'll discuss the details of how to create branches in the lecture exercises.  For now, suppose we create a new branch called `bug1`.![bug1_branch](figs/bug1_branch.png)\n",
    "\n",
    "The new branch is a pointer to the same commit as the `master` branch (commit **C**) but the pointer moved from the `master` branch to the `bug1` branch."
   ]
  },
  {
   "cell_type": "markdown",
   "metadata": {
    "slideshow": {
     "slide_type": "slide"
    }
   },
   "source": [
    "We do some work on the `bug1` branch and make two more commits.  The pointer and branch now move to commit **E**. ![bug1_commits](figs/bug1_commits.png)"
   ]
  },
  {
   "cell_type": "code",
   "execution_count": null,
   "metadata": {
    "collapsed": true
   },
   "outputs": [],
   "source": []
  }
 ],
 "metadata": {
  "celltoolbar": "Slideshow",
  "kernelspec": {
   "display_name": "Python 3",
   "language": "python",
   "name": "python3"
  },
  "language_info": {
   "codemirror_mode": {
    "name": "ipython",
    "version": 3
   },
   "file_extension": ".py",
   "mimetype": "text/x-python",
   "name": "python",
   "nbconvert_exporter": "python",
   "pygments_lexer": "ipython3",
   "version": "3.6.1"
  }
 },
 "nbformat": 4,
 "nbformat_minor": 2
}
