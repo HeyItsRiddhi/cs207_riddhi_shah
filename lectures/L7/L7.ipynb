{
 "cells": [
  {
   "cell_type": "markdown",
   "metadata": {
    "slideshow": {
     "slide_type": "slide"
    }
   },
   "source": [
    "# Lecture 7"
   ]
  },
  {
   "cell_type": "markdown",
   "metadata": {
    "slideshow": {
     "slide_type": "slide"
    }
   },
   "source": [
    "## Design of a program\n",
    "\n",
    "From the Practice of Programming:\n",
    "\n",
    ">The essence of design is to balance competing goals and constraints. Although there may be many tradeoffs when one is writing a small self-contained system, the ramifications of particular choices remain within the system and affect only the individual programmer. But when code is to be used by others, decisions have wider repercussions."
   ]
  },
  {
   "cell_type": "markdown",
   "metadata": {
    "slideshow": {
     "slide_type": "slide"
    }
   },
   "source": [
    "## Software Design Desirables\n",
    "\n",
    "- Documentation\n",
    "    - names (understandable names)\n",
    "    - pre+post conditions or requirements\n",
    "    \n",
    "- Maintainability\n",
    "    - Extensibility\n",
    "    - Modularity and Encapsulation\n",
    "    \n",
    "- Portability\n",
    "- Installability\n",
    "\n",
    "- Generality\n",
    "    - Data Abstraction (change types, change data structures)\n",
    "    - Functional Abstraction (the object model, overloading)\n",
    "    - Robustness\n",
    "        - Provability: Invariants, preconditions, postconditions\n",
    "        - User Proofing, Adversarial Inputs\n",
    "        \n",
    "- Efficiency\n",
    "    - Use of appropriate algorithms and data structures\n",
    "    - Optimization (but no premature optimization)"
   ]
  },
  {
   "cell_type": "markdown",
   "metadata": {
    "slideshow": {
     "slide_type": "slide"
    }
   },
   "source": [
    "## Issues to be aware of:\n",
    "* **Interfaces**\n",
    "\n",
    "  Your program is being designed to be used by someone: either an end user, another programmer (you are writing a library), or even yourself (we are talking about some layer in your program). This interface is a contract between you and the user.\n",
    "\n",
    "\n",
    "* **Hiding Information**\n",
    "\n",
    "  There is information hiding between layers (a higher up layer can be more abstract). Encapsulation,  abstraction,  modularization, are some of the techniques used here.\n",
    "\n",
    "\n",
    "* **Resource Management**\n",
    "\n",
    "  Resource management issues: who allocates storage for data structures.  Generally we want resource allocation/deallocation to happen in the same layer.\n",
    "\n",
    "\n",
    "* **How to Deal with Errors**\n",
    "\n",
    "  Do we return special values? Do we throw exceptions? Who handles them? (generally we want to catch even the lowest level error and give the client the chance to handle it)"
   ]
  },
  {
   "cell_type": "markdown",
   "metadata": {},
   "source": [
    "## Interface principles\n",
    "\n",
    "Interfaces should:\n",
    "\n",
    "- hide implementation details\n",
    "- have a small set of operations exposed, the smallest possible, and these should be orthogonal. Be stingy with the user.\n",
    "- but be transparent with the user in what goes on behind the scenes\n",
    "- be consistent internally: library functions should have similar signature, classes similar methods, and externally programs should have the same cli flags\n",
    "\n",
    "** Testing should deal with ALL of the issues above, and each layer ought to be tested separately **. "
   ]
  },
  {
   "cell_type": "markdown",
   "metadata": {
    "slideshow": {
     "slide_type": "slide"
    }
   },
   "source": [
    "## Testing\n",
    "\n",
    "There are different kinds of tests inspired by the interface principles just described.\n",
    "\n",
    "- **acceptance tests** verify that a program meets a customer's expectations. In a sense these are a test of the *interface* to the customer: does the program do everything you promised the customer it would do?\n",
    "\n",
    "- **unit tests** are tests which test a unit of the program for use by another unit. These could test the interface for a client, but they must also test the internal functions that you want to use.\n",
    "\n",
    "**Exploratory testing**, **regression testing**, and **integration testing** are done in both of these categories, with the latter trying to combine layers and subsystems, not necessarily at the level of an entire application. \n",
    "\n",
    "One can also performance test, random and exploratorily test, and stress test a system (to create adversarial situations)."
   ]
  },
  {
   "cell_type": "markdown",
   "metadata": {
    "slideshow": {
     "slide_type": "slide"
    }
   },
   "source": [
    "## Documentation\n",
    "**Documentation is a contract between a user (client) and an implementor (library writer).**"
   ]
  },
  {
   "cell_type": "markdown",
   "metadata": {
    "slideshow": {
     "slide_type": "subslide"
    }
   },
   "source": [
    "### Write good documentation\n",
    "* Follow standards of [PEP 257](https://www.python.org/dev/peps/pep-0257/)\n",
    "* Clearly output the inputs, outputs, default values, and expected behavior\n",
    "* Include basic usage examples when possible"
   ]
  },
  {
   "cell_type": "code",
   "execution_count": 1,
   "metadata": {
    "slideshow": {
     "slide_type": "subslide"
    }
   },
   "outputs": [],
   "source": [
    "def quad_roots(a=1.0, b=2.0, c=0.0):\n",
    "    \"\"\"Returns the roots of a quadratic equation: ax^2 + bx + c.\n",
    "    \n",
    "    INPUTS\n",
    "    =======\n",
    "    a: float, optional, default value is 1\n",
    "       Coefficient of quadratic term\n",
    "    b: float, optional, default value is 2\n",
    "       Coefficient of linear term\n",
    "    c: float, optional, default value is 0\n",
    "       Constant term\n",
    "    \n",
    "    RETURNS\n",
    "    ========\n",
    "    roots: 2-tuple of complex floats\n",
    "       Has the form (root1, root2) unless a = 0 \n",
    "       in which case a ValueError exception is raised\n",
    "    \n",
    "    EXAMPLES\n",
    "    =========\n",
    "    >>> quad_roots(1.0, 2.0, 3.0)\n",
    "    ((3+0j), (-4+0j))\n",
    "    \"\"\"\n",
    "    import cmath # Can return complex numbers from square roots\n",
    "    if a == 0:\n",
    "        raise ValueError(\"The quadratic coefficient is zero.  This is not a quadratic equation.\")\n",
    "    else:\n",
    "        sqrtdisc = cmath.sqrt(b * b - 4.0 * a * c)\n",
    "        r1 = -b + sqrtdisc\n",
    "        r2 = -b - sqrtdisc\n",
    "        return (r1 / 2.0 / a, r2 / 2.0 / a)"
   ]
  },
  {
   "cell_type": "markdown",
   "metadata": {
    "slideshow": {
     "slide_type": "subslide"
    }
   },
   "source": [
    "### Documening Invariants\n",
    "* An invariant is something that is true at some point in the code.\n",
    "* Invariants and the contract are what we use to guide our implementation.\n",
    "* Pre-conditions and post-conditions are special cases of invariants.\n",
    "* Pre-conditions are true at function entry. They constrain the user.\n",
    "* Post-conditions are true at function exit. They constrain the implementation.\n",
    "\n",
    "You can change implementations, stuff under the hood, etc, but once the software is in the wild **you cant change the pre-conditions and post-conditions** since the client user is depending upon them."
   ]
  },
  {
   "cell_type": "code",
   "execution_count": 2,
   "metadata": {
    "collapsed": true,
    "slideshow": {
     "slide_type": "subslide"
    }
   },
   "outputs": [],
   "source": [
    "def quad_roots(a=1.0, b=2.0, c=0.0):\n",
    "    \"\"\"Returns the roots of a quadratic equation: ax^2 + bx + c.\n",
    "    \n",
    "    INPUTS\n",
    "    =======\n",
    "    a: float, optional, default value is 1\n",
    "       Coefficient of quadratic term\n",
    "    b: float, optional, default value is 2\n",
    "       Coefficient of linear term\n",
    "    c: float, optional, default value is 0\n",
    "       Constant term\n",
    "    \n",
    "    RETURNS\n",
    "    ========\n",
    "    roots: 2-tuple of complex floats\n",
    "       Has the form (root1, root2) unless a = 0 \n",
    "       in which case a ValueError exception is raised\n",
    "\n",
    "    NOTES\n",
    "    =====\n",
    "    PRE: a, b, c have numeric type\n",
    "    POST:\n",
    "         - a, b, and c are not changed by this function\n",
    "         - raises a ValueError exception if a = 0\n",
    "         - returns a 2-tuple of roots\n",
    "\n",
    "    EXAMPLES\n",
    "    =========\n",
    "    >>> quad_roots(1.0, 1.0, -12.0)\n",
    "    ((3+0j), (-4+0j))\n",
    "    \"\"\"\n",
    "    import cmath # Can return complex numbers from square roots\n",
    "    if a == 0:\n",
    "        raise ValueError(\"The quadratic coefficient is zero.  This is not a quadratic equation.\")\n",
    "    else:\n",
    "        sqrtdisc = cmath.sqrt(b * b - 4.0 * a * c)\n",
    "        r1 = -b + sqrtdisc\n",
    "        r2 = -b - sqrtdisc\n",
    "        return (r1 / 2.0 / a, r2 / 2.0 / a)"
   ]
  },
  {
   "cell_type": "markdown",
   "metadata": {
    "slideshow": {
     "slide_type": "subslide"
    }
   },
   "source": [
    "### Accessing Documentation (1)\n",
    "* Documentation can be accessed by calling the `__doc__` special method of the function\n",
    "* Simply calling `function_name.__doc__` will give a pretty ugly output\n",
    "* You can make it cleaner by making use of `splitlines()`: `function_name.__doc__.splitlines()`"
   ]
  },
  {
   "cell_type": "code",
   "execution_count": 3,
   "metadata": {
    "scrolled": true,
    "slideshow": {
     "slide_type": "-"
    }
   },
   "outputs": [
    {
     "data": {
      "text/plain": [
       "['Returns the roots of a quadratic equation: ax^2 + bx + c.',\n",
       " '    ',\n",
       " '    INPUTS',\n",
       " '    =======',\n",
       " '    a: float, optional, default value is 1',\n",
       " '       Coefficient of quadratic term',\n",
       " '    b: float, optional, default value is 2',\n",
       " '       Coefficient of linear term',\n",
       " '    c: float, optional, default value is 0',\n",
       " '       Constant term',\n",
       " '    ',\n",
       " '    RETURNS',\n",
       " '    ========',\n",
       " '    roots: 2-tuple of complex floats',\n",
       " '       Has the form (root1, root2) unless a = 0 ',\n",
       " '       in which case a ValueError exception is raised',\n",
       " '',\n",
       " '    NOTES',\n",
       " '    =====',\n",
       " '    PRE: a, b, c have numeric type',\n",
       " '    POST:',\n",
       " '         - a, b, and c are not changed by this function',\n",
       " '         - raises a ValueError exception if a = 0',\n",
       " '         - returns a 2-tuple of roots',\n",
       " '',\n",
       " '    EXAMPLES',\n",
       " '    =========',\n",
       " '    >>> quad_roots(1.0, 1.0, -12.0)',\n",
       " '    ((3+0j), (-4+0j))',\n",
       " '    ']"
      ]
     },
     "execution_count": 3,
     "metadata": {},
     "output_type": "execute_result"
    }
   ],
   "source": [
    "quad_roots.__doc__.splitlines()"
   ]
  },
  {
   "cell_type": "markdown",
   "metadata": {
    "slideshow": {
     "slide_type": "subslide"
    }
   },
   "source": [
    "### Accessing Documentation (2)\n",
    "A nice way to access the documentation is to use the [`pydoc` module](https://docs.python.org/2/library/pydoc.html)."
   ]
  },
  {
   "cell_type": "code",
   "execution_count": 4,
   "metadata": {
    "slideshow": {
     "slide_type": "subslide"
    }
   },
   "outputs": [
    {
     "name": "stdout",
     "output_type": "stream",
     "text": [
      "Python Library Documentation: function quad_roots in module __main__\n",
      "\n",
      "quad_roots(a=1.0, b=2.0, c=0.0)\n",
      "    Returns the roots of a quadratic equation: ax^2 + bx + c.\n",
      "    \n",
      "    INPUTS\n",
      "    =======\n",
      "    a: float, optional, default value is 1\n",
      "       Coefficient of quadratic term\n",
      "    b: float, optional, default value is 2\n",
      "       Coefficient of linear term\n",
      "    c: float, optional, default value is 0\n",
      "       Constant term\n",
      "    \n",
      "    RETURNS\n",
      "    ========\n",
      "    roots: 2-tuple of complex floats\n",
      "       Has the form (root1, root2) unless a = 0 \n",
      "       in which case a ValueError exception is raised\n",
      "    \n",
      "    NOTES\n",
      "    =====\n",
      "    PRE: a, b, c have numeric type\n",
      "    POST:\n",
      "         - a, b, and c are not changed by this function\n",
      "         - raises a ValueError exception if a = 0\n",
      "         - returns a 2-tuple of roots\n",
      "    \n",
      "    EXAMPLES\n",
      "    =========\n",
      "    >>> quad_roots(1.0, 1.0, -12.0)\n",
      "    ((3+0j), (-4+0j))\n"
     ]
    }
   ],
   "source": [
    "import pydoc\n",
    "pydoc.doc(quad_roots)"
   ]
  },
  {
   "cell_type": "markdown",
   "metadata": {
    "slideshow": {
     "slide_type": "slide"
    }
   },
   "source": [
    "## Testing"
   ]
  },
  {
   "cell_type": "markdown",
   "metadata": {
    "slideshow": {
     "slide_type": "subslide"
    }
   },
   "source": [
    "There are different kinds of tests inspired by the interface principles just described.\n",
    "\n",
    "- **acceptance tests** verify that a program meets a customer's expectations. In a sense these are a test of the *interface* to the customer: does the program do everything you promised the customer it would do?\n",
    "\n",
    "- **unit tests** are tests which test a unit of the program for use by another unit. These could test the interface for a client, but they must also test the internal functions that you want to use.\n",
    "\n",
    "**Exploratory testing**, **regression testing**, and **integration testing** are done in both of these categories, with the latter trying to combine layers and subsystems, not necessarily at the level of an entire application. \n",
    "\n",
    "One can also performance test, random and exploratorily test, and stress test a system (to create adversarial situations)."
   ]
  },
  {
   "cell_type": "markdown",
   "metadata": {
    "slideshow": {
     "slide_type": "subslide"
    }
   },
   "source": [
    "### Testing of a program\n",
    "\n",
    "Test as you write your program.\n",
    "\n",
    "This is so important that I repeat it.\n",
    "\n",
    "**Test as you go**.\n",
    "\n",
    "From The Practice of Programming:\n",
    "\n",
    "\n",
    ">The  effort  of  testing as  you  go  is  minimal  and  pays off  handsomely.  Thinking about testing as you  write a program will  lead to better code, because that's when you know  best  what the code should do.  **If  instead  you  wait  until  something breaks, you will  probably  have forgotten how  the code works**.  Working under  pressure, you  will need  to figure it  out again, which  takes time, and  the fixes  will  be  less  thorough  and more fragile because your refreshed understanding is  likely to be incomplete. "
   ]
  },
  {
   "cell_type": "markdown",
   "metadata": {
    "slideshow": {
     "slide_type": "subslide"
    }
   },
   "source": [
    "### `doctest`\n",
    "The `doctest` module allows us to test pieces of code that we put into our documentation string.\n",
    "\n",
    "The doctests are a type of **unit test** (more on this later), which document the interface of the function by example.\n",
    "\n",
    "Doctests are an example of a **test harness**.  We write some tests and execute them all at once.  Note that individual tests can be written an executed individually in an ad-hoc manner.  However, that is especially inefficient.\n",
    "\n",
    "Of course, too many doctests clutter the documentation section.\n",
    "\n",
    "The doctests should not cover every case; they should describe the various ways a class or function can be used.  There are better ways to do more comprehensive testing."
   ]
  },
  {
   "cell_type": "code",
   "execution_count": 8,
   "metadata": {
    "slideshow": {
     "slide_type": "-"
    }
   },
   "outputs": [
    {
     "name": "stdout",
     "output_type": "stream",
     "text": [
      "Trying:\n",
      "    quad_roots(1.0, 1.0, -12.0)\n",
      "Expecting:\n",
      "    ((3+0j), (-4+0j))\n",
      "ok\n",
      "1 items had no tests:\n",
      "    __main__\n",
      "1 items passed all tests:\n",
      "   1 tests in __main__.quad_roots\n",
      "1 tests in 2 items.\n",
      "1 passed and 0 failed.\n",
      "Test passed.\n"
     ]
    },
    {
     "data": {
      "text/plain": [
       "TestResults(failed=0, attempted=1)"
      ]
     },
     "execution_count": 8,
     "metadata": {},
     "output_type": "execute_result"
    }
   ],
   "source": [
    "import doctest\n",
    "doctest.testmod(verbose=True)"
   ]
  },
  {
   "cell_type": "markdown",
   "metadata": {
    "slideshow": {
     "slide_type": "subslide"
    }
   },
   "source": [
    "### Principles of Testing\n",
    "* Test simple parts first\n",
    "* Test code at its boundaries\n",
    "  - The idea is that most errors happen at data boundaries such as empty input, single input item, exactly full array, wierd values, etc. If a piece of code works at the boundaries, its likely to work elsewhere...\n",
    "* Program defensively\n",
    "   >\"Program  defensively.  A  useful  technique is  to  add  code  to  handle  \"can't  happen\" cases,  situations  where  it  is  not  logically  possible  for  something  to  happen  but (because of  some failure elsewhere) it might anyway.  Adding a test for zero or nega- tive array lengths to avg  was one example.  As another example, a program  process- ing  grades might  expect  that  there  would  be  no  negative  or huge  values  but  should check anyway.\n",
    "* Automate using a test harness\n",
    "* Test incrementally\n"
   ]
  },
  {
   "cell_type": "markdown",
   "metadata": {
    "slideshow": {
     "slide_type": "subslide"
    }
   },
   "source": [
    "#### Test simple parts first:\n",
    "A test for the `quad_roots` function:"
   ]
  },
  {
   "cell_type": "code",
   "execution_count": 25,
   "metadata": {
    "collapsed": true,
    "slideshow": {
     "slide_type": "-"
    }
   },
   "outputs": [],
   "source": [
    "def test_quadroots():\n",
    "    assert quad_roots(1.0, 1.0, -12.0) == ((3+0j), (-4+0j))\n",
    "\n",
    "test_quadroots()"
   ]
  },
  {
   "cell_type": "markdown",
   "metadata": {
    "slideshow": {
     "slide_type": "subslide"
    }
   },
   "source": [
    "#### Test at the boundaries\n",
    "\n",
    "Here we write a test to handle the crazy case in which the user passes strings in as the coefficients."
   ]
  },
  {
   "cell_type": "code",
   "execution_count": 27,
   "metadata": {
    "scrolled": true,
    "slideshow": {
     "slide_type": "-"
    }
   },
   "outputs": [],
   "source": [
    "def test_quadroots_types():\n",
    "    try:\n",
    "        quad_roots(\"\", \"green\", \"hi\")\n",
    "    except TypeError as err:\n",
    "        assert(type(err) == TypeError)\n",
    "\n",
    "test_quadroots_types()"
   ]
  },
  {
   "cell_type": "markdown",
   "metadata": {
    "slideshow": {
     "slide_type": "subslide"
    }
   },
   "source": [
    "We can also check to make sure the $a=0$ case is handled okay:"
   ]
  },
  {
   "cell_type": "code",
   "execution_count": 33,
   "metadata": {
    "slideshow": {
     "slide_type": "-"
    }
   },
   "outputs": [],
   "source": [
    "def test_quadroots_zerocoeff():\n",
    "    try:\n",
    "        quad_roots(a=0.0)\n",
    "    except ValueError as err:\n",
    "        assert(type(err) == ValueError)\n",
    "\n",
    "test_quadroots_zerocoeff()"
   ]
  },
  {
   "cell_type": "markdown",
   "metadata": {
    "slideshow": {
     "slide_type": "subslide"
    }
   },
   "source": [
    "#### Automate Using a Test Harness\n",
    "\n",
    "Great!  So we've written some ad-hoc tests.  It's pretty clunky.  We should use a **test harness**.\n",
    "\n",
    "As mentioned already, `doctest` is a type of test harness.  It has it's uses, but gets messy quickly.\n",
    "\n",
    "We'll talk about **[`pytest`](https://docs.pytest.org/en/latest/)** here."
   ]
  }
 ],
 "metadata": {
  "celltoolbar": "Slideshow",
  "kernelspec": {
   "display_name": "Python 3",
   "language": "python",
   "name": "python3"
  },
  "language_info": {
   "codemirror_mode": {
    "name": "ipython",
    "version": 3
   },
   "file_extension": ".py",
   "mimetype": "text/x-python",
   "name": "python",
   "nbconvert_exporter": "python",
   "pygments_lexer": "ipython3",
   "version": "3.6.1"
  }
 },
 "nbformat": 4,
 "nbformat_minor": 2
}
