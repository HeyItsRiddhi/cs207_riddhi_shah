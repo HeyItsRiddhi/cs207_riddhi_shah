{
 "cells": [
  {
   "cell_type": "markdown",
   "metadata": {},
   "source": [
    "# Exercise 1:  Documentation and Testing\n",
    "The following little program needs some documentation and some tests.  Since you didn't write it, I'll tell you what it's supposed to do.  You'll need to document it.  Feel free to test for additional exceptions if you have time but start with it as it is.\n",
    "\n",
    "The point of the program is to compute the $L_{2}$ norm of a vector $v$.  A second argument, if provided, will be interpreted as a vector of weights.  The second argument must have the same length as the input vector.\n",
    "\n",
    "**NOTE:** The input type of the vectors for this program should be a list of numbers.\n",
    "\n",
    "As a reminder, the weighted $L_2$ norm of a vector $v$ is given by \n",
    "\\begin{align*}\n",
    "  \\|v\\|_{W} = \\sqrt{\\sum_{i=1}^{N}{\\left(w_{i}v_{i}\\right)^2}}\n",
    "\\end{align*}\n",
    "where $N$ is the length of the vector $v$, $v_{i}$ is the i-th component of the vector $v$ and $w_{i}$ is the i-th component of the weight vector.\n",
    "\n",
    "You must write the documentation and a decent test suite.  Try to include some doctests as well!\n",
    "\n",
    "Next, use the `pytest` module to run the doctests and unit tests and to assess the code coverage.\n",
    "\n",
    "If you don't already have `pytest`, you can install it using `pip install pytest`.  If you have trouble installing, here's the website: [`pytest` installation](https://docs.pytest.org/en/latest/getting-started.html)."
   ]
  },
  {
   "cell_type": "code",
   "execution_count": 21,
   "metadata": {},
   "outputs": [
    {
     "name": "stdout",
     "output_type": "stream",
     "text": [
      "Overwriting 12.py\n"
     ]
    }
   ],
   "source": [
    "%%file 12.py\n",
    "import numpy as np\n",
    "def L2(v, *args):\n",
    "    \"\"\"Returns the computed L2 norm of a vector v.\n",
    "    \n",
    "    INPUTS\n",
    "    =======\n",
    "    v: list, \n",
    "        vector in form of list of numbers\n",
    "    *args: optional, list\n",
    "        vector of weights & must be same length at v\n",
    "   \n",
    "    \n",
    "    RETURNS\n",
    "    ========\n",
    "    L2: float\n",
    "        L2 norm of a vector v\n",
    "    \n",
    "    EXAMPLES\n",
    "    =========\n",
    "    >>> L2([3,4])\n",
    "    5.0\n",
    "    \"\"\"\n",
    "    s = 0.0 # Initialize sum\n",
    "    if len(args) == 0: # No weight vector\n",
    "        for vi in v:\n",
    "            s += vi * vi\n",
    "    else: # Weight vector present\n",
    "        w = args[0] # Get the weight vector\n",
    "        if (len(w) != len(v)): # Check lengths of lists\n",
    "            raise ValueError(\"Length of list of weights must match length of target list.\")\n",
    "        for i, vi in enumerate(v):\n",
    "            s += w[i] * w[i] * vi * vi\n",
    "    return np.sqrt(s)\n",
    "\n",
    "def test_L2():\n",
    "    assert L2([3,4]) == 5.0\n",
    "    \n",
    "test_L2()\n",
    "\n",
    "def test_L2_types():\n",
    "    try:\n",
    "        L2([3,4],[3,3,3])\n",
    "    except ValueError as err:\n",
    "        assert(type(err) == ValueError)\n",
    "\n",
    "test_L2_types()\n",
    "\n",
    "def test_L2_weighted():\n",
    "    assert L2([3,4],[1,1]) == 5.0\n",
    "    \n",
    "test_L2_weighted()"
   ]
  },
  {
   "cell_type": "code",
   "execution_count": 7,
   "metadata": {},
   "outputs": [
    {
     "name": "stdout",
     "output_type": "stream",
     "text": [
      "Trying:\n",
      "    L2([3,4])\n",
      "Expecting:\n",
      "    5.0\n",
      "ok\n",
      "2 items had no tests:\n",
      "    __main__\n",
      "    __main__.test_L2\n",
      "1 items passed all tests:\n",
      "   1 tests in __main__.L2\n",
      "1 tests in 3 items.\n",
      "1 passed and 0 failed.\n",
      "Test passed.\n"
     ]
    },
    {
     "data": {
      "text/plain": [
       "TestResults(failed=0, attempted=1)"
      ]
     },
     "execution_count": 7,
     "metadata": {},
     "output_type": "execute_result"
    }
   ],
   "source": [
    "import doctest\n",
    "doctest.testmod(verbose=True)"
   ]
  },
  {
   "cell_type": "code",
   "execution_count": 23,
   "metadata": {},
   "outputs": [
    {
     "name": "stdout",
     "output_type": "stream",
     "text": [
      "\u001b[1m============================= test session starts ==============================\u001b[0m\n",
      "platform darwin -- Python 3.6.1, pytest-3.2.1, py-1.4.33, pluggy-0.4.0\n",
      "rootdir: /Users/riddhishah/Documents/cs207/cs207_riddhi_shah/lectures/L7, inifile:\n",
      "plugins: cov-2.3.1\n",
      "collected 1 item                                                                \u001b[0m\u001b[1m\n",
      "\n",
      "12.py .\n",
      "\n",
      "---------- coverage: platform darwin, python 3.6.1-final-0 -----------\n",
      "Name    Stmts   Miss  Cover   Missing\n",
      "-------------------------------------\n",
      "12.py      24      0   100%\n",
      "\n",
      "\n",
      "\u001b[32m\u001b[1m=========================== 1 passed in 0.76 seconds ===========================\u001b[0m\n"
     ]
    }
   ],
   "source": [
    "!pytest --doctest-modules --cov --cov-report term-missing"
   ]
  }
 ],
 "metadata": {
  "kernelspec": {
   "display_name": "Python 3",
   "language": "python",
   "name": "python3"
  },
  "language_info": {
   "codemirror_mode": {
    "name": "ipython",
    "version": 3
   },
   "file_extension": ".py",
   "mimetype": "text/x-python",
   "name": "python",
   "nbconvert_exporter": "python",
   "pygments_lexer": "ipython3",
   "version": "3.6.1"
  }
 },
 "nbformat": 4,
 "nbformat_minor": 2
}
