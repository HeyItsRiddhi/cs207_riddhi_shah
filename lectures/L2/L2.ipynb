{
 "cells": [
  {
   "cell_type": "markdown",
   "metadata": {},
   "source": [
    "# Lecture 2:  More git and GitHub\n",
    "---"
   ]
  },
  {
   "cell_type": "markdown",
   "metadata": {},
   "source": [
    "## Recap from Lecture 1"
   ]
  },
  {
   "cell_type": "markdown",
   "metadata": {},
   "source": [
    "Last time, you set up your private repository for this course.  The private repo has the same content and directory structure as the master course repository.\n",
    "\n",
    "The master branch of your private repository is called ``origin``.  You can see this short name by typing ``git remote -v`` into your terminal session.\n",
    "\n",
    "In order to get updates from the master repository to your local repository, you had to set up another remote repository.  You did this by executing ``git remote add upstream url_to_course_repo``.\n",
    "\n",
    "**Note:  There were two typos in Lecture 1.  In the first one, I reversed ``add`` and ``remote`` in the last git command above.  In the second typo I accidentally told you to write ``git pll`` when it should be ``git pull``.  Lecture 1 has been fixed and is now consistent with this lecture.**"
   ]
  },
  {
   "cell_type": "markdown",
   "metadata": {},
   "source": [
    "---\n",
    "## Exercise 1:  Command line basics"
   ]
  },
  {
   "cell_type": "markdown",
   "metadata": {},
   "source": [
    "In the last lecture, I asked you to use git from the command line.  Macs come with a command line app (terminal.app) and since Macs are loosely similar to [Unix](https://en.wikipedia.org/wiki/Unix) the terminal commands are pretty much the same as those in [Linux](https://en.wikipedia.org/wiki/Linux) distributions.  Windows is a bit different, and because of this, I had you install git BASH if you are using a Windows machine.  What this means is that, even if you are using a Windows OS, you can still use the nice Unix commands as long as you are in the git BASH terminal.\n",
    "\n",
    "It is true that there are various options for using ``git`` from the Desktop (e.g. see [GitHub Desktop](https://desktop.github.com)).  However, it is more useful for you to be able to do things from the command line.  The reasons for this are that the command line is not going anywhere any time soon and that I can't predict what GUI you're future company/group will want you to use.  You'll be much more versatile using the command line.\n",
    "\n",
    "What this means, is that I have to teach you a little bit about how to navigate with the command line.  There are a few essential commands that you absolutely **must** know.  You'll pick up the rest as you go through you life.  Here are the essential ones:\n",
    "\n",
    "* **ls**: list the contents of the current directory\n",
    "* **cd**: change to a new directory\n",
    "* **mv**: rename a directory or file OR move a directory or file to a new location\n",
    "* **cp**: copy a directory or file\n",
    "* **pwd**: print the working directory\n",
    "* **mkdir**: create a new directory\n",
    "* **rm**: remove a file (you can remove a directory with rm -r)\n",
    "\n",
    "Let's try to work with these a bit.  In the following steps, you should hit the ``return`` key after typing each command.\n",
    "\n",
    "1. Open up a terminal and type ``pwd``.  The output should be your home directory.\n",
    "2. Next type ``ls``.  You should see all the files and directories in your home directory.  Notice that if you type ``ls -l`` you get a list with more information where the files and directories are ordered alphabetically.  Typing ``ls -lt`` sorts the list by date/time created with the most recent file/directory at the top.  ``ls -ltr`` just reverses the order of the sort; now the most recent file/directory is at the bottom.\n",
    "3. Now type ``mkdir mydir``.  Voila!  You have just created a new directory.  Try ``ls`` again.  Do you see the new directory?\n",
    "4. To enter that directory type ``cd mydir``.  You just changed into your new directory.  Type ``pwd`` to see where you are.\n",
    "5. Now that you're inside your new directory, let's create a file in there.\n",
    "  * Type ``echo 'Hello world!' > newfile.txt``\n",
    "  * Type ``ls``.  You should see the next text file!\n",
    "  * To see the contents of the file, type ``cat newfile.txt``.\n",
    "6. Suppose you now want to rename ``newfile.txt`` to ``README.txt``.  Just execute ``mv newfile.txt README.txt``.  Type ``ls`` again if you wish.\n",
    "7. Maybe you really wanted to keep a copy of ``newfile.txt``.  Just do ``cp README.txt newfile.txt``.  As usual, ``ls`` will show you what you want to see.\n",
    "8. What if ``newfile.txt`` should actually be in a different directory?  Let's do the following:\n",
    "  * ``mkdir newdir``\n",
    "  * ``mv newfile.txt newdir\\``\n",
    "  * Altneratively, you could give the entire path of the new directory (not necessary here).  Here's how you would do that:\n",
    "    - ``pwd`` (just to see the current path)\n",
    "    - ``mv newfile.txt path_from_pwd/newdir/``\n",
    "9.  That was fun, but this directory is completely useless to use now.  Let's delete it.\n",
    "  * First, you need to get out of the current directory.  You can't delete a directory from within it!\n",
    "  * To go up one directory, just type ``cd ..``.\n",
    "     - **Unix Note:** In Unix, ``.`` stands for the current directory and ``..`` stands for the parent directory (that is, the directory containing the current directory.  Hence, ``cd ../`` changes to the parent directory of the current directory.\n",
    "     - **Unix Note:** If you want to go up two directories, just do ``cd ../../``.  You can use the same pattern for ``n`` directories.\n",
    "  * Now type ``rm mydir``.  You should see the message ``rm: mydir/: is a directory``.  ``rm`` cannot be used to removed directories as-is.  It can only remove files.\n",
    "  * To remove the directory type ``rm -rv mydir``.  The ``-r`` option says to recursively remove the directory and any contents.  The ``-v`` option says to be verbose while removing files.\n",
    "\n",
    "That was a whirlwind tour through a few of the more useful Unix commands.  It won't take you long to use them effectively.\n",
    "\n",
    "**Note:** If you want more information about any command, just type ``man command_name`` into the terminal.  This will bring up the manual page for that command.  You will see all sorts of information.  To scroll down, just hit the ``space bar``.  To exit the ``man page`` just type ``q`` (for quit).  Here's an example of a portion of the ``man page`` for the ``rm`` command:\n",
    "![rm man page](figs/rm_man_page.png)\n",
    "\n",
    "#### Bonus Command\n",
    "Suppose you want to copy a file from a different location to your current directory.  Well, recall that the current directory is represented by the `.` object.  Here are a few things you can do:\n",
    "* ``cp path_to_file/file .``: Will copy file to your current location\n",
    "* ``cp path_to_file/file ./sub_dir``:  Will copy file to the directory ``sub_dir`` in your current location\n",
    "* ``cp ../file .``:  Will copy file from the parent directory to your current location\n",
    "There are other, similar patterns to accomplish roughly the same thing.  You'll figure them out as you go through life."
   ]
  },
  {
   "cell_type": "markdown",
   "metadata": {},
   "source": [
    "---\n",
    "## Exercise 2:  Text Editors "
   ]
  },
  {
   "cell_type": "markdown",
   "metadata": {},
   "source": [
    "In the last exercise, you learned out to create a simple ``.txt`` file.  Of course, you really don't want to use the ``echo`` command to write programs.  That would be insane.  Many of you will write programs using Interactive Development Environments (IDEs) such as [Spyder](https://github.com/spyder-ide/spyder).  Spyder is shipped with [Anaconda](https://www.anaconda.com/) which we will be using when we get to Python.  However, I would **strongly** recommend that you learn how to use a text editor to write your programs and documents.\n",
    "\n",
    "There has been a battle raging over whether or not programmers who use IDEs are true developers.  The answer is that they are and so are people who use text editors.  One major advantage of using a text editor over an IDE is that you tend to learn what's going on \"under the hood\" which in turn makes you a better developer.  Many of you will go on to use IDEs in your careers so I want to make sure that you learn how to use a text editor.\n",
    "\n",
    "There are a variety of text editors (nano, vi, vim, emacs, notepad++, atom, sublime, gedit...).  My preferred text editor is vim but it really comes down to personal preference.  vim is shipped with most operating systems (which is really nice) and it is also included with git bash.\n",
    "\n",
    "There are a few vim commands with which you should become familiar.  First, to open a file (or a new file) simply type ``vim filename``.  You will get a new file if that filename does not yet exist.  Otherwise, you will see the contents contained in ``filename``.\n",
    "\n",
    "In this exercise, you will edit the ``README.md`` file in your private repository.  The ``.md`` extension stands for [markdown](https://en.wikipedia.org/wiki/Markdown#Example).  You should probably learn [Markdown](https://jbt.github.io/markdown-editor/#bVNBbtswELzzFVs4gO3GltpremqTpgkQA0WTnoICoUVSpC1yBXJlJyn69y4pw84hgAnJ5HBmd2Y1gdkPRzfDenndyR1GreawknGrcB/gu3KEUYhvMrkGhqTN0IHRkoaooXOJLoSAj3BJsTu/hxouveInISS500BWg3GdPkGsM3QCHv4xvLGISR8vynQqASPcPKzuMsdVlC3IoEBF7EEWbnCBb1kdy+0OpQJHGXydDxsMpAMlkHyeqfk0lLp+/7qDhPCCAzQyQLIZkQmTEOJ26iEgtIgKJME+OnKhZQLfM2mdcZ2OQPqZFpmlxYJhCfSabMYycUy6M5UQd4jbBZeb/fpQ/DKI+bGWcXy8CvGV28pdTFMh4cqV/gAX55/Z4aenp43cydRE15M4m5khNOQwzOZ/BcDZbKrcbjqvLPluNr0F6VmMt6rp/Iv4x4vvC/FgXQL+PWKAMfA/M0vUp4u6bh3ZYV016OvNmmp/8H6pS/zz3GKnCbisbcA9OAO3U45p/Slus6NUSt7n8rld8ZPTSTmNVazgCnFdMsvyj7krGFlHdRb3UTGmiPcRN7qhVGfcQb2eL8BE9LC3rrEiZ+dC6l2U2YIsw4anRdEozll+ewGXo/Kc/QjjTIhBjfS5xMlkAvc0GJNHWmUOL7e6EI0D/Xi0wNG7Nr05f/s+52jjaXZ7GRMPQ2G85JZWLsY3necufdmqgqZ6vJwblHtdWkkvXP/z0rrWdryIax1NKYzH7WqTjpwJDe15lr0MTjapwtiWvfqIrnU4SI30cDzJc8ufBw7UD1QmENYdNttU5DZpqbTpJOl3HVEybLGVrj7hRpX21fV9pkYDSpI82s1zY3ixIn+MSfwH).  It's super easy and quite nice.  GitHub also plays nicely with Markdown.\n",
    "\n",
    "1. Open your terminal and navigate to your private course repository.  Type ``ls``.  You should see ``README.md``.\n",
    "2. Open ``README.md`` using your favorite text editor.  This exercise will use vim, but I don't care what you use as long as it is a text editor.  To open, type ``vim README.md``.\n",
    "4. The first line should say ``# cs207-F17``.\n",
    "5. Use the arrow keys to move your cursor over the letter ``c``.\n",
    "6. Press ``v`` and move your cursor to the end of the line using the arrow keys. ![vim_virtual_highlight](figs/vim_virtual_highlight.png)  The ``v`` means that you're entering ``virtual mode``.\n",
    "7. Now type ``d``.  You have just deleted the highlighted text. ![vim_delete_line](figs/vim_delete_line.png)\n",
    "8. That sequense was somewhat advanced (but efficient).  Now you'll learn one of the most important commands:  the insert command.  Type ``i``.  You have just entered ``insert mode``.\n",
    "9. Now type something informative in.  When you're done typing press the escape key:  ``esc``.  You have now exited ``insert mode`` and returned to ``normal mode``. ![updated_README](figs/README_updated.png)\n",
    "10. Now save the file.  Simply type ``:w`` followed by the ``return`` key.\n",
    "11. Now exit the editor by typing ``:q`` followed by the ``return`` key.\n",
    "  * **Note:** Steps 10 and 11 could have been combined by typing ``:wq``.\n",
    "\n",
    "Great!  Now you know the basics of using the vim text editor to edit files.  You'll pick up a lot more commands the more you use vim.  Here is a vim cheatsheet (one of many) [vim cheatsheet](http://www.radford.edu/~mhtay/CPSC120/VIM_Editor_Commands.htm).\n",
    "\n",
    "Now you should update your local repository.\n",
    "\n",
    "1. Type ``git status``.  This tells you which files you changed.  You should see that ``README.md`` was modified.\n",
    "2. Type ``git commit -m \"Updated README file with more informative heading.\" README.md``.  This will register the changes in your local git repo (but not the remote repository yet!).  The ``-m`` option means that you're specifying a ``commit message`` and the string in quotes is the informative commit message.  All of this is followed by the file you're committing.  We'll learn a lot more about this in the coming lectures.\n",
    "3. Finally, type ``git push``.  This will push your changes to your remote repository on GitHub.  "
   ]
  },
  {
   "cell_type": "markdown",
   "metadata": {},
   "source": [
    "---\n",
    "## Exercise 3:  A few minor updates"
   ]
  },
  {
   "cell_type": "markdown",
   "metadata": {},
   "source": [
    "Please do the following:\n",
    "* Some of you named your course repo ``cs207work``.  Please rename it ``cs207_firstname_lastname``.  If you have already done this, then you're done.  If not, here's how you can rename your repo:\n",
    "  1. Go to your GitHub repo and click on the ``Settings`` tab.  Change the name under ``Repository name``.\n",
    "  2. Now go to the local copy of your repository (remember, we cloned this last time).  It's probably named ``cs207work`` if you're doing these steps.\n",
    "  3. Type ``git remote set-url origin url_to_your_repo`` where ``url_to_your_repo`` will be something like ``https://github.com/github_username/cs207_firstname_lastname.git``.  What you just did was change the url of the remote repository.  Recall that ``origin`` is the short name of your remote repository.\n",
    "  4. As a sanity check, type ``git remote -v``.  It should list the correct url now.\n",
    "  5. Finally, your directory should be updated to avoid any future confusion.\n",
    "    - To navigate up one directory, type ``cd ..``.\n",
    "    - Type ``mv cs207work cs207_firstname_lastname``. You just renamed the directory!\n",
    "* Give the teaching staff access to your private repository:\n",
    "  1. Go to your private repository again on GitHub.\n",
    "  2. Go to ``Settings`` again.\n",
    "  3. Click on ``Collaborators`` on the left side.\n",
    "  4. Add the TFs and me.  Our GitHub usernames are:\n",
    "    * dsondak\n",
    "    * therealchuckliu\n",
    "    * ericwu_09\n",
    "    * kevinwu23"
   ]
  },
  {
   "cell_type": "markdown",
   "metadata": {},
   "source": [
    "---\n",
    "## Exercise 4:  Install Anaconda "
   ]
  },
  {
   "cell_type": "markdown",
   "metadata": {},
   "source": [
    "All of our coding work will be done in Python this semester.  We will work with the Python3 distribution provided by [Anaconda](https://www.anaconda.com/).  Anaconda works with Windows, Mac, and Linux operating systems.  You should download and install it now:  [Anaconda Download[](https://www.anaconda.com/download/).  **Install the Python 3.6 version!**  "
   ]
  }
 ],
 "metadata": {
  "kernelspec": {
   "display_name": "Python 3",
   "language": "python",
   "name": "python3"
  },
  "language_info": {
   "codemirror_mode": {
    "name": "ipython",
    "version": 3
   },
   "file_extension": ".py",
   "mimetype": "text/x-python",
   "name": "python",
   "nbconvert_exporter": "python",
   "pygments_lexer": "ipython3",
   "version": "3.6.1"
  }
 },
 "nbformat": 4,
 "nbformat_minor": 2
}
