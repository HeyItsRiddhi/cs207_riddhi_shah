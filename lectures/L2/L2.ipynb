{
 "cells": [
  {
   "cell_type": "markdown",
   "metadata": {},
   "source": [
    "# Lecture 2:  More git and GitHub\n",
    "---"
   ]
  },
  {
   "cell_type": "markdown",
   "metadata": {},
   "source": [
    "## Recap from Lecture 1"
   ]
  },
  {
   "cell_type": "markdown",
   "metadata": {},
   "source": [
    "Last time, you set up your private repository for this course.  The private repo has the same content and directory structure as the master course repository.\n",
    "\n",
    "The master branch of your private repository is called ``origin``.  You can see this short name by typing ``git remote -v`` into your terminal session.\n",
    "\n",
    "In order to get updates from the master repository to your local repository, you had to set up another remote repository.  You did this by executing ``git remote add upstream url_to_course_repo``.\n",
    "\n",
    "**Note:  There were two typos in Lecture 1.  In the first one, I reversed ``add`` and ``remote`` in the last git command above.  In the second typo I accidentally told you to write ``git pll`` when it should be ``git pull``.  Lecture 1 has been fixed and is now consistent with this lecture.**"
   ]
  }
 ],
 "metadata": {
  "kernelspec": {
   "display_name": "Python 3",
   "language": "python",
   "name": "python3"
  },
  "language_info": {
   "codemirror_mode": {
    "name": "ipython",
    "version": 3
   },
   "file_extension": ".py",
   "mimetype": "text/x-python",
   "name": "python",
   "nbconvert_exporter": "python",
   "pygments_lexer": "ipython3",
   "version": "3.6.1"
  }
 },
 "nbformat": 4,
 "nbformat_minor": 2
}
