{
 "cells": [
  {
   "cell_type": "markdown",
   "metadata": {},
   "source": [
    "# Homework 4\n",
    "### Due Date:  Tuesday, September 26th at 11:59 PM"
   ]
  },
  {
   "cell_type": "markdown",
   "metadata": {},
   "source": [
    "## Problem 1\n",
    "The file `circles.txt` contains measurements of circle radii.  Your task is to write a script that reports the average area of the circles.  You will **not** use the `numpy` `mean` function.  Here are the requirements:\n",
    "1. Open `circles.txt`, read in the data, and convert the data to floats.\n",
    "2. Write a function that computes the area of a circle.\n",
    "3. Write a function, called `myave`, that computes the average of the areas of the circles.  At the very least, `myave` should accept the list of radii as one argument and the circle function that you wrote in step 2 as another argument.  There are other ways of doing this task, but I want you to do it this way.\n",
    "4. Print out the result."
   ]
  },
  {
   "cell_type": "code",
   "execution_count": 1,
   "metadata": {
    "collapsed": true
   },
   "outputs": [],
   "source": [
    "# Get Data\n",
    "file = open('circles.txt', 'r')\n",
    "circles = file.read().splitlines() \n",
    "file.close()"
   ]
  },
  {
   "cell_type": "code",
   "execution_count": 3,
   "metadata": {},
   "outputs": [
    {
     "name": "stdout",
     "output_type": "stream",
     "text": [
      "[0.9681561892825645, 0.9383571028606462, 0.9633466725922948, 1.1190000819885169, 0.9015032470985564]\n"
     ]
    }
   ],
   "source": [
    "float_circles = [float(circle) for circle in circles]\n",
    "print(float_circles[:5])"
   ]
  },
  {
   "cell_type": "code",
   "execution_count": 61,
   "metadata": {
    "collapsed": true
   },
   "outputs": [],
   "source": [
    "import math\n",
    "def area(radius):\n",
    "    a = math.pi*(radius**2)\n",
    "    return a"
   ]
  },
  {
   "cell_type": "code",
   "execution_count": 21,
   "metadata": {},
   "outputs": [
    {
     "name": "stdout",
     "output_type": "stream",
     "text": [
      "The average of the area of circles is:  3.1958990970819956\n"
     ]
    }
   ],
   "source": [
    "import numpy as np\n",
    "\n",
    "def myava (radi,function = area):\n",
    "    total = 0\n",
    "    for raduis in radi:\n",
    "        total = total + function(raduis)\n",
    "    avg = total/len(radi)\n",
    "    return avg\n",
    "\n",
    "print(\"The average of the area of circles is: \", myava(float_circles))"
   ]
  },
  {
   "cell_type": "markdown",
   "metadata": {},
   "source": [
    "## Problem 2\n",
    "The goal of this problem is to write a simple bank account withdraw system.  The problem is based off of one in _Structure and Interpretation of Computer Programs_.\n",
    "\n",
    "**Instructions:** Do each part in a different cell block and clearly label each part.\n",
    "\n",
    "### Part 1\n",
    "Write a closure to make withdraws from a bank account.  The outer function should be accept the initial balance as an argument (I'll refer to this argument as `balance` in this problem statement, but you can call it whatever you want).  The inner function should accept the withdraw amount as an argument and return the new balance.\n",
    "\n",
    "**NOTE1:** For this part, do not try to reassign `balance` in the inner function.  Just see what happens when you return a new balance.  You can store the new balance in a new name (call it `new_bal` if you want) or just return the new balance directly.\n",
    "\n",
    "**NOTE2:** You may want to check for basic exceptions (e.g. attempting to withdraw more than the current balance).\n",
    "\n",
    "Once you write your functions, demo them in your notebook as follows:\n",
    "```python\n",
    "wd = make_withdraw(init_balance)\n",
    "wd(withdraw_amount)\n",
    "wd(new_withdraw_amount)\n",
    "```\n",
    "You should observe that this does not behave correctly.  Why not?\n",
    "\n",
    "### Part 2\n",
    "You can fix things up by updating `balance` within the inner function.  But this won't work.  Try it out and explain why it doesn't work.  Try to use the language that we used in lecture.  **Hint:** [Python Execution Model](https://docs.python.org/3/reference/executionmodel.html).\n",
    "\n",
    "### Part 3\n",
    "Now, make just one small change to your code from Part 2.  Declare `balance` as a nonlocal variable using the nonlocal keyword.  That is, make the first line of the inner function, say `nonlocal balance`.  Here's some information on the `nonlocal` statement:  [`nonlocal`](https://docs.python.org/3/reference/simple_stmts.html#nonlocal).\n",
    "\n",
    "Now test things out like you did in Part 1.  It should be behaving correctly now.\n",
    "\n",
    "### Part 4\n",
    "Finally, visualize your code with [Python Tutor](http://pythontutor.com/) and embed your visualization in your notebook.  Pay attention to the variable `balance`."
   ]
  },
  {
   "cell_type": "code",
   "execution_count": 16,
   "metadata": {},
   "outputs": [],
   "source": [
    "# Part 1\n",
    "def make_withdraw(init_balance):\n",
    "    def withdraw(withdraw_amount):\n",
    "        if(withdraw_amount < 0):\n",
    "            raise ValueError(\"Withdrawl amount must be positive\")\n",
    "        if(withdraw_amount > init_balance):\n",
    "            raise ValueError(\"Not sufficent funds for transaction! Balance = \",\n",
    "                             init_balance, \"and withdraw requested = \", withdraw_amount)\n",
    "        new_balance = init_balance - withdraw_amount\n",
    "        return new_balance\n",
    "    return withdraw\n",
    "\n",
    "'''\n",
    "wd = make_withdraw(200)\n",
    "wd(10)\n",
    "wd(10)\n",
    "\n",
    "This doesn't work because you are not saving the new balance returned from the inner function (withdraw) anywhere\n",
    "thus when you call wd(10) a second time it is simply working with the init_balance first passed in. To accomplish\n",
    "the desired effect you must safe the new balance returned fromt eh first wd(10) and then recall make_withdraw with\n",
    "the new balance and then call wd(10) a second time. Below I have provide code for how the desired effect can be \n",
    "attained \n",
    "\n",
    "wd = make_withdraw(200)\n",
    "new_balance = wd(10)\n",
    "wd = make_withdraw(new_balance)\n",
    "wd(10)\n",
    "\n",
    "Result: 180\n",
    "'''"
   ]
  },
  {
   "cell_type": "markdown",
   "metadata": {},
   "source": [
    "### Part 2\n",
    "\n",
    "Updating the init_balance within the inner function, as shown below will not work because when balance is passed into the make_withdraw function the function creates a varaible init_balance called but this variable is scoped to the make_withdraw function and is accesed by the withdraw function, changing init_balance in the withdraw function will cause an error \"UnboundLocalError\" because the init_balance value is simply given to it by the parent and is not defined in the inner fucntion it is defined by the parent. \n",
    "\n",
    "\n",
    "Example:\n",
    "\n",
    "def make_withdraw(init_balance):\n",
    "    def withdraw(withdraw_amount):\n",
    "        if(withdraw_amount < 0):\n",
    "            raise ValueError(\"Withdrawl amount must be positive\")\n",
    "        if(withdraw_amount > init_balance):\n",
    "            raise ValueError(\"Not sufficent funds for transaction! Balance = \",\n",
    "                             init_balance, \"and withdraw requested = \", withdraw_amount)\n",
    "        new_balance = init_balance - withdraw_amount\n",
    "        init_balance = new_balance\n",
    "        return new_balance\n",
    "    return withdraw\n",
    "    \n",
    "\n",
    "wd = make_withdraw(200)\n",
    "wd(10) -> 190\n",
    "wd(10) ->190"
   ]
  },
  {
   "cell_type": "code",
   "execution_count": 38,
   "metadata": {},
   "outputs": [
    {
     "name": "stdout",
     "output_type": "stream",
     "text": [
      "190\n",
      "180\n"
     ]
    }
   ],
   "source": [
    "# Part 3\n",
    "def make_withdraw(init_balance):\n",
    "    def withdraw(withdraw_amount):\n",
    "        nonlocal init_balance\n",
    "        if(withdraw_amount < 0):\n",
    "            raise ValueError(\"Withdrawl amount must be positive\")\n",
    "        if(withdraw_amount > init_balance):\n",
    "            raise ValueError(\"Not sufficent funds for transaction! Balance = \",\n",
    "                             init_balance, \"and withdraw requested = \", withdraw_amount)\n",
    "        new_balance = init_balance - withdraw_amount\n",
    "        init_balance = new_balance\n",
    "        return new_balance\n",
    "    return withdraw\n",
    "    \n",
    "#usign the function\n",
    "wd = make_withdraw(200)\n",
    "print(wd(10))\n",
    "print(wd(10))"
   ]
  },
  {
   "cell_type": "code",
   "execution_count": 65,
   "metadata": {},
   "outputs": [
    {
     "data": {
      "text/html": [
       "<iframe width=\"800\" height=\"500\" frameborder=\"0\" src=\"http://pythontutor.com/iframe-embed.html#code=def%20make_withdraw%28init_balance%29%3A%0A%20%20%20%20def%20withdraw%28withdraw_amount%29%3A%0A%20%20%20%20%20%20%20%20nonlocal%20init_balance%0A%20%20%20%20%20%20%20%20if%28withdraw_amount%20%3C%200%29%3A%0A%20%20%20%20%20%20%20%20%20%20%20%20raise%20ValueError%28%22Withdrawl%20amount%20must%20be%20positive%22%29%0A%20%20%20%20%20%20%20%20if%28withdraw_amount%20%3E%20init_balance%29%3A%0A%20%20%20%20%20%20%20%20%20%20%20%20raise%20ValueError%28%22Not%20sufficent%20funds%20for%20transaction!%20Balance%20%3D%20%22,%0A%20%20%20%20%20%20%20%20%20%20%20%20%20%20%20%20%20%20%20%20%20%20%20%20%20%20%20%20%20init_balance,%20%22and%20withdraw%20requested%20%3D%20%22,%20withdraw_amount%29%0A%20%20%20%20%20%20%20%20new_balance%20%3D%20init_balance%20-%20withdraw_amount%0A%20%20%20%20%20%20%20%20init_balance%20%3D%20new_balance%0A%20%20%20%20%20%20%20%20return%20new_balance%0A%20%20%20%20return%20withdraw%0A%0Awd%20%3D%20make_withdraw%28200%29%0Awd%2810%29%0Awd%2810%29&codeDivHeight=400&codeDivWidth=350&cumulative=false&curInstr=21&heapPrimitives=false&origin=opt-frontend.js&py=3&rawInputLstJSON=%5B%5D&textReferences=false\"> </iframe>"
      ],
      "text/plain": [
       "<IPython.core.display.HTML object>"
      ]
     },
     "execution_count": 65,
     "metadata": {},
     "output_type": "execute_result"
    }
   ],
   "source": [
    "from IPython.display import HTML \n",
    "HTML('<iframe width=\"800\" height=\"500\" frameborder=\"0\" src=\"http://pythontutor.com/iframe-embed.html#code=def%20make_withdraw%28init_balance%29%3A%0A%20%20%20%20def%20withdraw%28withdraw_amount%29%3A%0A%20%20%20%20%20%20%20%20nonlocal%20init_balance%0A%20%20%20%20%20%20%20%20if%28withdraw_amount%20%3C%200%29%3A%0A%20%20%20%20%20%20%20%20%20%20%20%20raise%20ValueError%28%22Withdrawl%20amount%20must%20be%20positive%22%29%0A%20%20%20%20%20%20%20%20if%28withdraw_amount%20%3E%20init_balance%29%3A%0A%20%20%20%20%20%20%20%20%20%20%20%20raise%20ValueError%28%22Not%20sufficent%20funds%20for%20transaction!%20Balance%20%3D%20%22,%0A%20%20%20%20%20%20%20%20%20%20%20%20%20%20%20%20%20%20%20%20%20%20%20%20%20%20%20%20%20init_balance,%20%22and%20withdraw%20requested%20%3D%20%22,%20withdraw_amount%29%0A%20%20%20%20%20%20%20%20new_balance%20%3D%20init_balance%20-%20withdraw_amount%0A%20%20%20%20%20%20%20%20init_balance%20%3D%20new_balance%0A%20%20%20%20%20%20%20%20return%20new_balance%0A%20%20%20%20return%20withdraw%0A%0Awd%20%3D%20make_withdraw%28200%29%0Awd%2810%29%0Awd%2810%29&codeDivHeight=400&codeDivWidth=350&cumulative=false&curInstr=21&heapPrimitives=false&origin=opt-frontend.js&py=3&rawInputLstJSON=%5B%5D&textReferences=false\"> </iframe>')"
   ]
  },
  {
   "cell_type": "markdown",
   "metadata": {},
   "source": [
    "## Problem 3\n",
    "Let's return to the data from Problem 1.  Write two functions: 1.) The first function should return the average circle area (you can re-use the one you already wrote if you'd like, but you might need to update it slightly for this problem) and 2.) The second function should just use `numpy` to compute the average.\n",
    "\n",
    "Write a decorator to time the evaluation of each function.  You can use the timing decorator from lecture.\n",
    "\n",
    "#### Notes and Hints\n",
    "1. Be fair!\n",
    "2. To be as fair as possible, do the following:\n",
    "  1. Create an areas list/array _outside_ of your averaging functions.  This means that you should do a loop over the radii you read in from `circles.txt`, compute the area from each point, and store that area in an array.  Do you know why this is more fair?  Also, try to not use `append`.  Instead, preallocate space for your `area` list/array.\n",
    "  2. Your `my_ave` function should accept your areas data as a list.  Remember, to allocate a list you should do `[0.0]*N`: if you use such a construct your list will will be filled in with zeros.\n",
    "  3. Your `np_ave` function should accept your areas data as a `numpy` array.  To allocate a `numpy` array do `areas_np = np.zeros(len(radii))`.\n",
    "  4. Now both functions are using the best data types possible for their tasks."
   ]
  },
  {
   "cell_type": "code",
   "execution_count": 51,
   "metadata": {
    "collapsed": true
   },
   "outputs": [],
   "source": [
    "import time\n",
    "def timer(f):\n",
    "    def inner(*args):\n",
    "        t0 = time.time()\n",
    "        output = f(*args)\n",
    "        elapsed = time.time() - t0\n",
    "        print(\"Time Elapsed\", elapsed)\n",
    "        return output\n",
    "    return inner"
   ]
  },
  {
   "cell_type": "code",
   "execution_count": 55,
   "metadata": {},
   "outputs": [
    {
     "name": "stdout",
     "output_type": "stream",
     "text": [
      "Time Elapsed 4.00543212890625e-05\n",
      "myave:  3.1958990970819956\n"
     ]
    }
   ],
   "source": [
    "# Problem 3 Function 1\n",
    "areas = [0.0] * (len(float_circles))\n",
    "\n",
    "for i,raduis in enumerate(float_circles):\n",
    "    areas[i] = (area(raduis))\n",
    "    \n",
    "@timer\n",
    "def myave (areas_list):\n",
    "    if (type(areas_list) != list):\n",
    "        raise TypeError(\"Must pass in a list of areas as argument\")\n",
    "    total = 0\n",
    "    for area in areas_list:\n",
    "        total = total + area\n",
    "    avg = total/(len(areas_list))\n",
    "    return avg\n",
    "\n",
    "#Testing\n",
    "print(\"myave: \",myave(areas))"
   ]
  },
  {
   "cell_type": "code",
   "execution_count": 54,
   "metadata": {},
   "outputs": [
    {
     "name": "stdout",
     "output_type": "stream",
     "text": [
      "Time Elapsed 4.482269287109375e-05\n",
      "np_ave:  3.19589909708\n"
     ]
    }
   ],
   "source": [
    "# Problem 3 Function 2\n",
    "areas_np = np.zeros(len(float_circles))\n",
    "\n",
    "for i,raduis in enumerate(float_circles):\n",
    "    areas_np[i] = (area(raduis))\n",
    "\n",
    "@timer\n",
    "def np_ave(array):\n",
    "    avg = (np.sum(array))/(len(array))\n",
    "    return avg\n",
    "\n",
    "#Testing\n",
    "print(\"np_ave: \",np_ave(areas_np))"
   ]
  },
  {
   "cell_type": "markdown",
   "metadata": {},
   "source": [
    "## Problem 4\n",
    "Write a decorator to check if a quantity returned from a function is positive.  An exception should be raised if the quantity is not positive.\n",
    "\n",
    "Write three functions and decorate them with your decorator:\n",
    "1. A function that returns the discriminant $\\displaystyle d = b^{2} - 4ac$\n",
    "2. A function that computes the absolute value (you must write this yourself...do not use built-ins)\n",
    "3. A function of your own choosing.\n",
    "\n",
    "Show that your decorator behaves correctly.  That is, for each function, show two cases (where applicable):\n",
    "1. A case where positivity is not violated\n",
    "2. A case where positivity is violated"
   ]
  },
  {
   "cell_type": "code",
   "execution_count": 63,
   "metadata": {},
   "outputs": [
    {
     "data": {
      "text/plain": [
       "78.53981633974483"
      ]
     },
     "execution_count": 63,
     "metadata": {},
     "output_type": "execute_result"
    }
   ],
   "source": [
    "# Problem 4 Decorator\n",
    "def positive(f):\n",
    "    def inner(*args):\n",
    "        result = f(*args)\n",
    "        if (result < 0):\n",
    "            raise ValueError(\"Number returned: \", result,\"is not positive\")\n",
    "        else:\n",
    "            return result\n",
    "    return inner\n",
    "\n",
    "#Testing Decorator\n",
    "inner = positive(area)\n",
    "inner(5)"
   ]
  }
 ],
 "metadata": {
  "kernelspec": {
   "display_name": "Python 3",
   "language": "python",
   "name": "python3"
  },
  "language_info": {
   "codemirror_mode": {
    "name": "ipython",
    "version": 3
   },
   "file_extension": ".py",
   "mimetype": "text/x-python",
   "name": "python",
   "nbconvert_exporter": "python",
   "pygments_lexer": "ipython3",
   "version": "3.6.1"
  }
 },
 "nbformat": 4,
 "nbformat_minor": 2
}
