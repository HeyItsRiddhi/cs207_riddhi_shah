{
 "cells": [
  {
   "cell_type": "markdown",
   "metadata": {},
   "source": [
    "# Problem 1\n",
    "The file `circles.txt` contains measurements of circle radii.  Your task is to write a script that reports the average area of the circles.  You will **not** use the `numpy` `mean` function.  Here are the requirements:\n",
    "1. Open `circles.txt`, read in the data, and convert the data to floats.\n",
    "2. Write a function that computes the area of a circle.\n",
    "3. Write a function, called `myave`, that computes the average of the areas of the circles.  At the very least, `myave` should accept the list of radii as one argument and the circle function that you wrote in step 2 as another argument.  There are others ways of doing this task, but I want you to do it this way.\n",
    "4. Print out the result."
   ]
  },
  {
   "cell_type": "code",
   "execution_count": 13,
   "metadata": {},
   "outputs": [
    {
     "name": "stdout",
     "output_type": "stream",
     "text": [
      "3.1958990970819956\n"
     ]
    }
   ],
   "source": [
    "import numpy as np\n",
    "\n",
    "with open('circles.txt') as circles:\n",
    "    circle_data = circles.read()\n",
    "    radii = circle_data.split()\n",
    "    for i, v in enumerate(radii):\n",
    "        radii[i] = float(v)\n",
    "    \n",
    "def circle_area(r):\n",
    "    return np.pi * r * r\n",
    "\n",
    "def my_ave(data, f):\n",
    "    ave = 0.0\n",
    "    for i, v in enumerate(data):\n",
    "        ave += f(v)\n",
    "    return ave / len(data)\n",
    "\n",
    "ave_area = my_ave(radii, circle_area)\n",
    "print(ave_area)"
   ]
  },
  {
   "cell_type": "markdown",
   "metadata": {},
   "source": [
    "# Problem 2\n",
    "The goal of this problem is to write a simple bank account withdraw system.  The problem is based off of one in _Structure and Interpretation of Computer Programs_."
   ]
  },
  {
   "cell_type": "markdown",
   "metadata": {},
   "source": [
    "## Part 1"
   ]
  },
  {
   "cell_type": "markdown",
   "metadata": {},
   "source": [
    "Write a closure to make withdraws from a bank account.  The outer function should be accept the initial balance as an argument (I'll refer to this argument as `balance` in this problem statement, but you can call it whatever you want).  The inner function should accept the withdraw amount as an argument.  Once you write your functions, demo them in your notebook as follows:\n",
    "```python\n",
    "wd = make_withdraw(init_balance)\n",
    "wd(withdraw_amount)\n",
    "wd(new_withdraw_amount)\n",
    "```\n",
    "You should observe that this does not behave correctly.  Why not?"
   ]
  },
  {
   "cell_type": "markdown",
   "metadata": {},
   "source": [
    "## Part 2\n",
    "You can fix things up by updating `balance` within the inner function.  But this won't work.  Try it out and explain why it doesn't work.  Try to use the language that we used in lecture."
   ]
  },
  {
   "cell_type": "markdown",
   "metadata": {},
   "source": [
    "## Part 3\n",
    "Now, make just one small change to your code from Part 2.  Declare `balance` as a nonlocal variable using the nonlocal keyword.  That is, before you get to the inner function, say `nonlocal balance`.\n",
    "\n",
    "Now test things out like you did in Part 1.  It should be behaving correctly now."
   ]
  },
  {
   "cell_type": "markdown",
   "metadata": {},
   "source": [
    "## Part 4\n",
    "Finally, visualize your code with [Python Tutor](http://pythontutor.com/) and embed your visualization in your notebook.  Pay attention to the variable `balance`."
   ]
  },
  {
   "cell_type": "markdown",
   "metadata": {},
   "source": [
    "## Problem 3\n",
    "Let's return to the data from Problem 1.  Write two functions: 1.) The first function should return the average circle radius (you can re-use the one you already wrote if you'd like, but you might need to update it slightly for this problem) and 2.) The second function should just use `numpy` to compute the average.\n",
    "\n",
    "Write a decorator to time the evaluation of each function.  You can use the timing decorator from lecture.\n",
    "\n",
    "#### Notes and Hints\n",
    "1. Be fair!\n",
    "2. To be as fair as possible, do the following:\n",
    "  1. Create an areas list/array _outside_ of your averaging functions.  This means that you should do a loop over the radii you read in from `circles.txt`, compute the area from each point, and store that area in an array.  Do you know why this is more fair?  Also, try to not use `append`.  Instead, preallocate space for your `area` list/array.\n",
    "  2. Your `my_ave` function should accept your areas data as a list.  Remember, to allocate a list you should do `[0.0]*N`: if you use such a construct your list will will be filled in with zeros.\n",
    "  3. Your `np_ave` function should accept your areas data as a `numpy` array.  To allocate a `numpy` array do `areas_np = np.zeros(len(radii))`.\n",
    "  4. Now both functions are using the best data types possible for their tasks."
   ]
  },
  {
   "cell_type": "code",
   "execution_count": 21,
   "metadata": {},
   "outputs": [
    {
     "name": "stdout",
     "output_type": "stream",
     "text": [
      "Time Elapsed 5.316734313964844e-05\n",
      "Time Elapsed 4.887580871582031e-05\n"
     ]
    }
   ],
   "source": [
    "import time\n",
    "def timer(f):\n",
    "    def inner(*args):\n",
    "        t0 = time.time()\n",
    "        output = f(*args)\n",
    "        elapsed = time.time() - t0\n",
    "        print(\"Time Elapsed\", elapsed)\n",
    "        return output\n",
    "    return inner\n",
    "\n",
    "areas = [0.0]*len(radii)\n",
    "areas_np = np.zeros(len(radii))\n",
    "for i, r in enumerate(radii):\n",
    "    areas[i] = circle_area(r)\n",
    "    areas_np[i] = circle_area(r)\n",
    "\n",
    "@timer\n",
    "def my_ave(data):\n",
    "    ave = 0.0\n",
    "    for i, v in enumerate(data):\n",
    "        ave += v\n",
    "    return ave / len(data)\n",
    "\n",
    "@timer\n",
    "def np_ave(data):\n",
    "    return np.mean(data)\n",
    "\n",
    "ave1 = my_ave(areas)\n",
    "ave2 = np_ave(areas_np)"
   ]
  },
  {
   "cell_type": "markdown",
   "metadata": {},
   "source": [
    "## Problem 4\n",
    "Write a decorator to check if a quantity returned from a function is positive.  An exception should be raised if the quantity is not positive.\n",
    "\n",
    "Write three functions and decorate them with your decorator:\n",
    "1. A function that returns the discriminant $\\displaystyle d = b^{2} - 4ac$\n",
    "2. A function that computes the absolute value (you must write this yourself...do not use built-ins)\n",
    "3. A function of your own choosing.\n",
    "\n",
    "Show that your decorator behaves correctly.  That is, for each function, show two cases:\n",
    "1. "
   ]
  },
  {
   "cell_type": "code",
   "execution_count": 7,
   "metadata": {},
   "outputs": [
    {
     "name": "stdout",
     "output_type": "stream",
     "text": [
      "8.0\n",
      "1.0\n"
     ]
    }
   ],
   "source": [
    "def check_positive(f):\n",
    "    def wrapper(*args):\n",
    "        result = f(*args)\n",
    "        if result < 0 :\n",
    "            raise ValueError(\"Your function returned a negative number.  This should never happen.\")\n",
    "        else:\n",
    "            return result\n",
    "    return wrapper\n",
    "\n",
    "@check_positive\n",
    "def disc(a,b,c):\n",
    "    return b * b - 4.0 * a * c\n",
    "\n",
    "@check_positive\n",
    "def new_abs(x):\n",
    "    if x < 0:\n",
    "        return -x\n",
    "    else:\n",
    "        return x\n",
    "\n",
    "print(disc(2.0, 0.0, -1.0))\n",
    "print(new_abs(1.0))"
   ]
  }
 ],
 "metadata": {
  "kernelspec": {
   "display_name": "Python 3",
   "language": "python",
   "name": "python3"
  },
  "language_info": {
   "codemirror_mode": {
    "name": "ipython",
    "version": 3
   },
   "file_extension": ".py",
   "mimetype": "text/x-python",
   "name": "python",
   "nbconvert_exporter": "python",
   "pygments_lexer": "ipython3",
   "version": "3.6.1"
  }
 },
 "nbformat": 4,
 "nbformat_minor": 2
}
