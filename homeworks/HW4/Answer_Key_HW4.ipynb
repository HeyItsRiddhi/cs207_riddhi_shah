{
 "cells": [
  {
   "cell_type": "markdown",
   "metadata": {},
   "source": [
    "# Problem 1\n",
    "The file `circles.txt` contains measurements of circle radii.  Your task is to write a script that reports the average area of the circles.  You will **not** use the `numpy` `mean` function.  Here are the requirements:\n",
    "1. Open `circles.txt`, read in the data, and convert the data to floats.\n",
    "2. Write a function that computes the area of a circle.\n",
    "3. Write a function, called `myave`, that computes the average of the areas of the circles.  At the very least, `myave` should accept the list of radii as one argument and the circle function that you wrote in step 2 as another argument.  There are others ways of doing this task, but I want you to do it this way.\n",
    "4. Print out the result."
   ]
  },
  {
   "cell_type": "code",
   "execution_count": 1,
   "metadata": {},
   "outputs": [
    {
     "name": "stdout",
     "output_type": "stream",
     "text": [
      "3.1958990970819956\n"
     ]
    }
   ],
   "source": [
    "# Give 1 point for effort\n",
    "\n",
    "import numpy as np\n",
    "\n",
    "# 3 pts for reading in data and data conversion\n",
    "# Take off points for not opening/closing file correctly,\n",
    "# incorrect type conversion, inefficient/incorrect loop\n",
    "with open('circles.txt') as circles:\n",
    "    circle_data = circles.read()\n",
    "    radii = circle_data.split()\n",
    "    for i, v in enumerate(radii):\n",
    "        radii[i] = float(v)\n",
    "\n",
    "# 2 pts for correct area function\n",
    "def circle_area(r):\n",
    "    return np.pi * r * r\n",
    "\n",
    "# 2 points for reasonable average function\n",
    "def my_ave(data, f):\n",
    "    ave = 0.0\n",
    "    for i, v in enumerate(data):\n",
    "        ave += f(v)\n",
    "    return ave / len(data)\n",
    "\n",
    "# 2 points for correct answer and use of function\n",
    "ave_area = my_ave(radii, circle_area)\n",
    "print(ave_area)"
   ]
  },
  {
   "cell_type": "markdown",
   "metadata": {},
   "source": [
    "# Problem 2\n",
    "The goal of this problem is to write a simple bank account withdraw system.  The problem is based off of one in _Structure and Interpretation of Computer Programs_."
   ]
  },
  {
   "cell_type": "markdown",
   "metadata": {},
   "source": [
    "## Part 1"
   ]
  },
  {
   "cell_type": "markdown",
   "metadata": {},
   "source": [
    "Write a closure to make withdraws from a bank account.  The outer function should be accept the initial balance as an argument (I'll refer to this argument as `balance` in this problem statement, but you can call it whatever you want).  The inner function should accept the withdraw amount as an argument.  Once you write your functions, demo them in your notebook as follows:\n",
    "```python\n",
    "wd = make_withdraw(init_balance)\n",
    "wd(withdraw_amount)\n",
    "wd(new_withdraw_amount)\n",
    "```\n",
    "You should observe that this does not behave correctly.  Why not?"
   ]
  },
  {
   "cell_type": "code",
   "execution_count": 2,
   "metadata": {},
   "outputs": [
    {
     "name": "stdout",
     "output_type": "stream",
     "text": [
      "New balance is: $950.00\n",
      "Updated balance is: $900.00\n"
     ]
    }
   ],
   "source": [
    "# 3 pts for correct set of nested functions\n",
    "def make_withdraw(balance):\n",
    "    def withdraw(amount):\n",
    "        if amount > balance:\n",
    "            return \"You cannot withdraw more than you have in your current balance.\"\n",
    "        else:\n",
    "            return balance - amount\n",
    "    return withdraw\n",
    "\n",
    "# 1 pt for correct demo\n",
    "init_bal = 1000.00\n",
    "wd = make_withdraw(init_bal)\n",
    "wd_amount = 50.00\n",
    "print(\"New balance is: ${0:6.2f}\".format(wd(wd_amount)))\n",
    "new_wd_amount = 100.00\n",
    "print(\"Updated balance is: ${0:6.2f}\".format(wd(new_wd_amount)))"
   ]
  },
  {
   "cell_type": "markdown",
   "metadata": {},
   "source": [
    "## Part 2\n",
    "You can fix things up by updating `balance` within the inner function.  But this won't work.  Try it out and explain why it doesn't work.  Try to use the language that we used in lecture.  **Hint:** [Python Execution Model](https://docs.python.org/3/reference/executionmodel.html)."
   ]
  },
  {
   "cell_type": "code",
   "execution_count": 3,
   "metadata": {},
   "outputs": [
    {
     "ename": "UnboundLocalError",
     "evalue": "local variable 'balance' referenced before assignment",
     "output_type": "error",
     "traceback": [
      "\u001b[0;31m---------------------------------------------------------------------------\u001b[0m",
      "\u001b[0;31mUnboundLocalError\u001b[0m                         Traceback (most recent call last)",
      "\u001b[0;32m<ipython-input-3-18bd3a707b43>\u001b[0m in \u001b[0;36m<module>\u001b[0;34m()\u001b[0m\n\u001b[1;32m     12\u001b[0m \u001b[0mwd\u001b[0m \u001b[0;34m=\u001b[0m \u001b[0mmake_withdraw\u001b[0m\u001b[0;34m(\u001b[0m\u001b[0minit_bal\u001b[0m\u001b[0;34m)\u001b[0m\u001b[0;34m\u001b[0m\u001b[0m\n\u001b[1;32m     13\u001b[0m \u001b[0mwd_amount\u001b[0m \u001b[0;34m=\u001b[0m \u001b[0;36m50.00\u001b[0m\u001b[0;34m\u001b[0m\u001b[0m\n\u001b[0;32m---> 14\u001b[0;31m \u001b[0mprint\u001b[0m\u001b[0;34m(\u001b[0m\u001b[0;34m\"New balance is: ${0:6.2f}\"\u001b[0m\u001b[0;34m.\u001b[0m\u001b[0mformat\u001b[0m\u001b[0;34m(\u001b[0m\u001b[0mwd\u001b[0m\u001b[0;34m(\u001b[0m\u001b[0mwd_amount\u001b[0m\u001b[0;34m)\u001b[0m\u001b[0;34m)\u001b[0m\u001b[0;34m)\u001b[0m\u001b[0;34m\u001b[0m\u001b[0m\n\u001b[0m",
      "\u001b[0;32m<ipython-input-3-18bd3a707b43>\u001b[0m in \u001b[0;36mwithdraw\u001b[0;34m(amount)\u001b[0m\n\u001b[1;32m      2\u001b[0m \u001b[0;32mdef\u001b[0m \u001b[0mmake_withdraw\u001b[0m\u001b[0;34m(\u001b[0m\u001b[0mbalance\u001b[0m\u001b[0;34m)\u001b[0m\u001b[0;34m:\u001b[0m\u001b[0;34m\u001b[0m\u001b[0m\n\u001b[1;32m      3\u001b[0m     \u001b[0;32mdef\u001b[0m \u001b[0mwithdraw\u001b[0m\u001b[0;34m(\u001b[0m\u001b[0mamount\u001b[0m\u001b[0;34m)\u001b[0m\u001b[0;34m:\u001b[0m\u001b[0;34m\u001b[0m\u001b[0m\n\u001b[0;32m----> 4\u001b[0;31m         \u001b[0;32mif\u001b[0m \u001b[0mamount\u001b[0m \u001b[0;34m>\u001b[0m \u001b[0mbalance\u001b[0m\u001b[0;34m:\u001b[0m\u001b[0;34m\u001b[0m\u001b[0m\n\u001b[0m\u001b[1;32m      5\u001b[0m             \u001b[0;32mreturn\u001b[0m \u001b[0;34m\"You cannot withdraw more than you have in your current balance.\"\u001b[0m\u001b[0;34m\u001b[0m\u001b[0m\n\u001b[1;32m      6\u001b[0m         \u001b[0;32melse\u001b[0m\u001b[0;34m:\u001b[0m\u001b[0;34m\u001b[0m\u001b[0m\n",
      "\u001b[0;31mUnboundLocalError\u001b[0m: local variable 'balance' referenced before assignment"
     ]
    }
   ],
   "source": [
    "# Give 1 pt for making the change.\n",
    "def make_withdraw(balance):\n",
    "    def withdraw(amount):\n",
    "        if amount > balance:\n",
    "            return \"You cannot withdraw more than you have in your current balance.\"\n",
    "        else:\n",
    "            balance -= amount\n",
    "            return balance\n",
    "    return withdraw\n",
    "\n",
    "init_bal = 1000.00\n",
    "wd = make_withdraw(init_bal)\n",
    "wd_amount = 50.00\n",
    "print(\"New balance is: ${0:6.2f}\".format(wd(wd_amount)))"
   ]
  },
  {
   "cell_type": "markdown",
   "metadata": {},
   "source": [
    "**Why it doesn't work:** The name `balance` was bound in `make_withdraw`.\n",
    "\n",
    "#### Give one point if they're on the right track."
   ]
  },
  {
   "cell_type": "markdown",
   "metadata": {},
   "source": [
    "## Part 3\n",
    "Now, make just one small change to your code from Part 2.  Declare `balance` as a nonlocal variable using the nonlocal keyword.  That is, before you get to the inner function, say `nonlocal balance`.  Here's some information on the `nonlocal` statement:  [`nonlocal`](https://docs.python.org/3/reference/simple_stmts.html#nonlocal).\n",
    "\n",
    "Now test things out like you did in Part 1.  It should be behaving correctly now."
   ]
  },
  {
   "cell_type": "code",
   "execution_count": 4,
   "metadata": {},
   "outputs": [
    {
     "name": "stdout",
     "output_type": "stream",
     "text": [
      "New balance is: $950.00\n",
      "Updated balance is: $850.00\n"
     ]
    }
   ],
   "source": [
    "# Give 1 pt for using nonlocal statement\n",
    "def make_withdraw(balance):\n",
    "    def withdraw(amount):\n",
    "        nonlocal balance\n",
    "        if amount > balance:\n",
    "            return \"You cannot withdraw more than you have in your current balance.\"\n",
    "        else:\n",
    "            balance = balance - amount\n",
    "            return balance\n",
    "    return withdraw\n",
    "\n",
    "# Give 2 more points for correct solutions\n",
    "init_bal = 1000.00\n",
    "wd = make_withdraw(init_bal)\n",
    "wd_amount = 50.00\n",
    "print(\"New balance is: ${0:6.2f}\".format(wd(wd_amount)))\n",
    "new_wd_amount = 100.00\n",
    "print(\"Updated balance is: ${0:6.2f}\".format(wd(new_wd_amount)))"
   ]
  },
  {
   "cell_type": "markdown",
   "metadata": {},
   "source": [
    "## Part 4\n",
    "Finally, visualize your code with [Python Tutor](http://pythontutor.com/) and embed your visualization in your notebook.  Pay attention to the variable `balance`.\n",
    "\n",
    "#### Give 1 pt for correct visualization"
   ]
  },
  {
   "cell_type": "code",
   "execution_count": 5,
   "metadata": {},
   "outputs": [
    {
     "data": {
      "text/html": [
       "<iframe width=\"800\" height=\"500\" frameborder=\"0\" src=\"http://pythontutor.com/iframe-embed.html#code=def%20make_withdraw%28balance%29%3A%0A%20%20%20%20def%20withdraw%28amount%29%3A%0A%20%20%20%20%20%20%20%20nonlocal%20balance%0A%20%20%20%20%20%20%20%20if%20amount%20%3E%20balance%3A%0A%20%20%20%20%20%20%20%20%20%20%20%20return%20%22You%20cannot%20withdraw%20more%20than%20you%20have%20in%20your%20current%20balance.%22%0A%20%20%20%20%20%20%20%20else%3A%0A%20%20%20%20%20%20%20%20%20%20%20%20balance%20%3D%20balance%20-%20amount%0A%20%20%20%20%20%20%20%20%20%20%20%20return%20balance%0A%20%20%20%20return%20withdraw%0A%0Ainit_bal%20%3D%201000.00%0Awd%20%3D%20make_withdraw%28init_bal%29%0Awd_amount%20%3D%2050.00%0Awd%28wd_amount%29%0Anew_wd_amount%20%3D%20100.00%0Awd%28new_wd_amount%29&codeDivHeight=400&codeDivWidth=350&cumulative=false&curInstr=21&heapPrimitives=false&origin=opt-frontend.js&py=3&rawInputLstJSON=%5B%5D&textReferences=false\"> </iframe>"
      ],
      "text/plain": [
       "<IPython.core.display.HTML object>"
      ]
     },
     "execution_count": 5,
     "metadata": {},
     "output_type": "execute_result"
    }
   ],
   "source": [
    "from IPython.display import HTML\n",
    "HTML('<iframe width=\"800\" height=\"500\" frameborder=\"0\" src=\"http://pythontutor.com/iframe-embed.html#code=def%20make_withdraw%28balance%29%3A%0A%20%20%20%20def%20withdraw%28amount%29%3A%0A%20%20%20%20%20%20%20%20nonlocal%20balance%0A%20%20%20%20%20%20%20%20if%20amount%20%3E%20balance%3A%0A%20%20%20%20%20%20%20%20%20%20%20%20return%20%22You%20cannot%20withdraw%20more%20than%20you%20have%20in%20your%20current%20balance.%22%0A%20%20%20%20%20%20%20%20else%3A%0A%20%20%20%20%20%20%20%20%20%20%20%20balance%20%3D%20balance%20-%20amount%0A%20%20%20%20%20%20%20%20%20%20%20%20return%20balance%0A%20%20%20%20return%20withdraw%0A%0Ainit_bal%20%3D%201000.00%0Awd%20%3D%20make_withdraw%28init_bal%29%0Awd_amount%20%3D%2050.00%0Awd%28wd_amount%29%0Anew_wd_amount%20%3D%20100.00%0Awd%28new_wd_amount%29&codeDivHeight=400&codeDivWidth=350&cumulative=false&curInstr=21&heapPrimitives=false&origin=opt-frontend.js&py=3&rawInputLstJSON=%5B%5D&textReferences=false\"> </iframe>')"
   ]
  },
  {
   "cell_type": "markdown",
   "metadata": {},
   "source": [
    "## Problem 3\n",
    "Let's return to the data from Problem 1.  Write two functions: 1.) The first function should return the average circle radius (you can re-use the one you already wrote if you'd like, but you might need to update it slightly for this problem) and 2.) The second function should just use `numpy` to compute the average.\n",
    "\n",
    "Write a decorator to time the evaluation of each function.  You can use the timing decorator from lecture.\n",
    "\n",
    "#### Notes and Hints\n",
    "1. Be fair!\n",
    "2. To be as fair as possible, do the following:\n",
    "  1. Create an areas list/array _outside_ of your averaging functions.  This means that you should do a loop over the radii you read in from `circles.txt`, compute the area from each point, and store that area in an array.  Do you know why this is more fair?  Also, try to not use `append`.  Instead, preallocate space for your `area` list/array.\n",
    "  2. Your `my_ave` function should accept your areas data as a list.  Remember, to allocate a list you should do `[0.0]*N`: if you use such a construct your list will will be filled in with zeros.\n",
    "  3. Your `np_ave` function should accept your areas data as a `numpy` array.  To allocate a `numpy` array do `areas_np = np.zeros(len(radii))`.\n",
    "  4. Now both functions are using the best data types possible for their tasks."
   ]
  },
  {
   "cell_type": "code",
   "execution_count": 6,
   "metadata": {},
   "outputs": [
    {
     "name": "stdout",
     "output_type": "stream",
     "text": [
      "Time Elapsed 4.8160552978515625e-05\n",
      "Time Elapsed 0.000141143798828125\n",
      "My ave area = 3.1958990970819956\n",
      "np.mean area = 3.195899097081994\n"
     ]
    }
   ],
   "source": [
    "# 1 pt for effort\n",
    "\n",
    "# 2 pts for timer function\n",
    "import time\n",
    "def timer(f):\n",
    "    def inner(*args):\n",
    "        t0 = time.time()\n",
    "        output = f(*args)\n",
    "        elapsed = time.time() - t0\n",
    "        print(\"Time Elapsed\", elapsed)\n",
    "        return output\n",
    "    return inner\n",
    "\n",
    "# 2 pts for correct calculation of areas\n",
    "## 1 pt for correct allocation\n",
    "## 1 pt for correct loop for calculating areas\n",
    "### NOTE:  They may modify their circle_area function\n",
    "###        to accept a list rather than a scalar.  You \n",
    "###        can still grade it the same way.\n",
    "areas = [0.0]*len(radii)\n",
    "areas_np = np.zeros(len(radii))\n",
    "for i, r in enumerate(radii):\n",
    "    areas[i] = circle_area(r)\n",
    "    areas_np[i] = circle_area(r)\n",
    "\n",
    "# 2 pts for decorators\n",
    "@timer\n",
    "def my_ave(data):\n",
    "    ave = 0.0\n",
    "    for i, v in enumerate(data):\n",
    "        ave += v\n",
    "    return ave / len(data)\n",
    "\n",
    "@timer\n",
    "def np_ave(data):\n",
    "    return np.mean(data)\n",
    "\n",
    "# 3 pts for correct usage and answer\n",
    "ave1 = my_ave(areas)\n",
    "ave2 = np_ave(areas_np)\n",
    "print('My ave area = {}'.format(ave1))\n",
    "print('np.mean area = {}'.format(ave2))"
   ]
  },
  {
   "cell_type": "markdown",
   "metadata": {},
   "source": [
    "## Problem 4\n",
    "Write a decorator to check if a quantity returned from a function is positive.  An exception should be raised if the quantity is not positive.\n",
    "\n",
    "Write three functions and decorate them with your decorator:\n",
    "1. A function that returns the discriminant $\\displaystyle d = b^{2} - 4ac$\n",
    "2. A function that computes the absolute value (you must write this yourself...do not use built-ins)\n",
    "3. A function of your own choosing.\n",
    "\n",
    "Show that your decorator behaves correctly.  That is, for each function, show two cases (where applicable):\n",
    "1. A case where positivity is not violated\n",
    "2. A case where positivity is violated"
   ]
  },
  {
   "cell_type": "code",
   "execution_count": 7,
   "metadata": {},
   "outputs": [
    {
     "name": "stdout",
     "output_type": "stream",
     "text": [
      "8.0\n",
      "1.0\n"
     ]
    },
    {
     "ename": "ValueError",
     "evalue": "Your function returned a negative number.  This should never happen.",
     "output_type": "error",
     "traceback": [
      "\u001b[0;31m---------------------------------------------------------------------------\u001b[0m",
      "\u001b[0;31mValueError\u001b[0m                                Traceback (most recent call last)",
      "\u001b[0;32m<ipython-input-7-34f0933182f8>\u001b[0m in \u001b[0;36m<module>\u001b[0;34m()\u001b[0m\n\u001b[1;32m     29\u001b[0m \u001b[0mprint\u001b[0m\u001b[0;34m(\u001b[0m\u001b[0mdisc\u001b[0m\u001b[0;34m(\u001b[0m\u001b[0;36m2.0\u001b[0m\u001b[0;34m,\u001b[0m \u001b[0;36m0.0\u001b[0m\u001b[0;34m,\u001b[0m \u001b[0;34m-\u001b[0m\u001b[0;36m1.0\u001b[0m\u001b[0;34m)\u001b[0m\u001b[0;34m)\u001b[0m\u001b[0;34m\u001b[0m\u001b[0m\n\u001b[1;32m     30\u001b[0m \u001b[0mprint\u001b[0m\u001b[0;34m(\u001b[0m\u001b[0mnew_abs\u001b[0m\u001b[0;34m(\u001b[0m\u001b[0;36m1.0\u001b[0m\u001b[0;34m)\u001b[0m\u001b[0;34m)\u001b[0m\u001b[0;34m\u001b[0m\u001b[0m\n\u001b[0;32m---> 31\u001b[0;31m \u001b[0mprint\u001b[0m\u001b[0;34m(\u001b[0m\u001b[0mdisc\u001b[0m\u001b[0;34m(\u001b[0m\u001b[0;36m2.0\u001b[0m\u001b[0;34m,\u001b[0m \u001b[0;36m0.0\u001b[0m\u001b[0;34m,\u001b[0m \u001b[0;36m5.0\u001b[0m\u001b[0;34m)\u001b[0m\u001b[0;34m)\u001b[0m\u001b[0;34m\u001b[0m\u001b[0m\n\u001b[0m",
      "\u001b[0;32m<ipython-input-7-34f0933182f8>\u001b[0m in \u001b[0;36mwrapper\u001b[0;34m(*args)\u001b[0m\n\u001b[1;32m      4\u001b[0m         \u001b[0mresult\u001b[0m \u001b[0;34m=\u001b[0m \u001b[0mf\u001b[0m\u001b[0;34m(\u001b[0m\u001b[0;34m*\u001b[0m\u001b[0margs\u001b[0m\u001b[0;34m)\u001b[0m\u001b[0;34m\u001b[0m\u001b[0m\n\u001b[1;32m      5\u001b[0m         \u001b[0;32mif\u001b[0m \u001b[0mresult\u001b[0m \u001b[0;34m<\u001b[0m \u001b[0;36m0\u001b[0m \u001b[0;34m:\u001b[0m\u001b[0;34m\u001b[0m\u001b[0m\n\u001b[0;32m----> 6\u001b[0;31m             \u001b[0;32mraise\u001b[0m \u001b[0mValueError\u001b[0m\u001b[0;34m(\u001b[0m\u001b[0;34m\"Your function returned a negative number.  This should never happen.\"\u001b[0m\u001b[0;34m)\u001b[0m\u001b[0;34m\u001b[0m\u001b[0m\n\u001b[0m\u001b[1;32m      7\u001b[0m         \u001b[0;32melse\u001b[0m\u001b[0;34m:\u001b[0m\u001b[0;34m\u001b[0m\u001b[0m\n\u001b[1;32m      8\u001b[0m             \u001b[0;32mreturn\u001b[0m \u001b[0mresult\u001b[0m\u001b[0;34m\u001b[0m\u001b[0m\n",
      "\u001b[0;31mValueError\u001b[0m: Your function returned a negative number.  This should never happen."
     ]
    }
   ],
   "source": [
    "# 3 pts for decorator\n",
    "def check_positive(f):\n",
    "    def wrapper(*args):\n",
    "        result = f(*args)\n",
    "        if result < 0 :\n",
    "            raise ValueError(\"Your function returned a negative number.  This should never happen.\")\n",
    "        else:\n",
    "            return result\n",
    "    return wrapper\n",
    "\n",
    "# One point for each function + 1 pt \n",
    "# for correct use of decorator\n",
    "# (Total of 4 pts possible)\n",
    "@check_positive\n",
    "def disc(a,b,c):\n",
    "    return b * b - 4.0 * a * c\n",
    "\n",
    "@check_positive\n",
    "def new_abs(x):\n",
    "    if x < 0:\n",
    "        return -x\n",
    "    else:\n",
    "        return x\n",
    "\n",
    "# Give 1 pt for tests\n",
    "# That is, 1/2 pt for non-violation test and 1/2 pt\n",
    "# for violation test.  When only 1 case is valid, \n",
    "# give 1 pt for the whole test\n",
    "print(disc(2.0, 0.0, -1.0))\n",
    "print(new_abs(1.0))\n",
    "print(disc(2.0, 0.0, 5.0))\n"
   ]
  }
 ],
 "metadata": {
  "kernelspec": {
   "display_name": "Python 3",
   "language": "python",
   "name": "python3"
  },
  "language_info": {
   "codemirror_mode": {
    "name": "ipython",
    "version": 3
   },
   "file_extension": ".py",
   "mimetype": "text/x-python",
   "name": "python",
   "nbconvert_exporter": "python",
   "pygments_lexer": "ipython3",
   "version": "3.6.1"
  }
 },
 "nbformat": 4,
 "nbformat_minor": 2
}
