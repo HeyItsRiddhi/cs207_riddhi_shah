{
 "cells": [
  {
   "cell_type": "markdown",
   "metadata": {},
   "source": [
    "# Homework 3\n",
    "### Due Date:  Tuesday, September 20th at 11:59 PM"
   ]
  },
  {
   "cell_type": "markdown",
   "metadata": {},
   "source": [
    "---\n",
    "## Problem 1:  `Git` and recovering from a mistake\n",
    "You will do this problem in the Jupyter notebook so I can see your output.  Once again, you will work with your playground repository.\n",
    "\n",
    "**NOTE:** At the beginning of each cell, you MUST type `%%bash`.  If you don't do that then you will not be able to work with the necessary bash commands.\n",
    "\n",
    "Follow the following steps for this problem:\n",
    "\n",
    "1. First cell:\n",
    "  1. Type `cd /tmp` to enter the temporary directory\n",
    "  2. git clone url_to_your_playground_repo\n",
    "2. Second cell:\n",
    "  1. Go into your local `playground` directory (`cd /tmp/playground`)\n",
    "  2. Type `git pull origin mybranch1`\n",
    "  3. `ls`\n",
    "3. Third cell:\n",
    "  1. Go into your local `playground` directory (`cd /tmp/playground`)\n",
    "  2. Type `git status`\n",
    "4. Fourth cell:\n",
    "  1. Go into your local `playground` directory (`cd /tmp/playground`)\n",
    "  2. Type `git reset --hard origin/master`\n",
    "  3. `ls`\n",
    "5. Fifth cell:\n",
    "  1. Go into your local `playground` directory (`cd /tmp/playground`)\n",
    "  2. Type `git status`\n",
    "\n",
    "The whole point of this problem was to show you how to get your local repo back to an earlier state.  In this exercise, you accidentally merged something to `master` that you didn't want.  Rather than starting to delete things all over the place, you can simply reset your `HEAD` to a previous commit."
   ]
  },
  {
   "cell_type": "code",
   "execution_count": 4,
   "metadata": {},
   "outputs": [
    {
     "name": "stderr",
     "output_type": "stream",
     "text": [
      "fatal: destination path 'playground' already exists and is not an empty directory.\n"
     ]
    }
   ],
   "source": [
    "%%bash\n",
    "cd /tmp\n",
    "git clone https://github.com/HeyItsRiddhi/playground.git"
   ]
  },
  {
   "cell_type": "code",
   "execution_count": 12,
   "metadata": {},
   "outputs": [
    {
     "name": "stdout",
     "output_type": "stream",
     "text": [
      "Merge made by the 'recursive' strategy.\n",
      " books.md | 1 +\n",
      " 1 file changed, 1 insertion(+)\n",
      " create mode 100644 books.md\n",
      "README.md\n",
      "books.md\n",
      "feature.txt\n",
      "intro.md\n",
      "world.md\n"
     ]
    },
    {
     "name": "stderr",
     "output_type": "stream",
     "text": [
      "From https://github.com/HeyItsRiddhi/playground\n",
      " * branch            mybranch1  -> FETCH_HEAD\n"
     ]
    }
   ],
   "source": [
    "%%bash\n",
    "cd /tmp/playground\n",
    "git pull origin mybranch1\n",
    "ls"
   ]
  },
  {
   "cell_type": "code",
   "execution_count": 13,
   "metadata": {},
   "outputs": [
    {
     "name": "stdout",
     "output_type": "stream",
     "text": [
      "On branch master\n",
      "Your branch is ahead of 'origin/master' by 2 commits.\n",
      "  (use \"git push\" to publish your local commits)\n",
      "nothing to commit, working tree clean\n"
     ]
    }
   ],
   "source": [
    "%%bash\n",
    "cd /tmp/playground\n",
    "git status"
   ]
  },
  {
   "cell_type": "code",
   "execution_count": 14,
   "metadata": {},
   "outputs": [
    {
     "name": "stdout",
     "output_type": "stream",
     "text": [
      "HEAD is now at 4f54b54 Shared attribution between Joe & Sally\n",
      "README.md\n",
      "feature.txt\n",
      "intro.md\n",
      "world.md\n"
     ]
    }
   ],
   "source": [
    "%%bash\n",
    "cd /tmp/playground\n",
    "git reset --hard origin/master\n",
    "ls"
   ]
  },
  {
   "cell_type": "code",
   "execution_count": 15,
   "metadata": {},
   "outputs": [
    {
     "name": "stdout",
     "output_type": "stream",
     "text": [
      "On branch master\n",
      "Your branch is up-to-date with 'origin/master'.\n",
      "nothing to commit, working tree clean\n"
     ]
    }
   ],
   "source": [
    "%%bash\n",
    "cd /tmp/playground\n",
    "git status"
   ]
  },
  {
   "cell_type": "markdown",
   "metadata": {},
   "source": [
    "## Problem 2:  `Git` and checking out a single file\n",
    "Sometimes you don't want to merge an entire branch from the upstream but just one file from it. There is a direct use case for such a situation. Suppose I've made an error in this homework (or a lecture) and want to correct it. I fix the mistake in the upstream repo. In the meantime you have edited some other files and you really don't want to manually ignore my older copies of those files. Rather, you want to fix just one file from this new branch. This is how you do it.\n",
    "\n",
    "As usual, be sure to type in `%%bash` before you write any `bash` commands in a cell.\n",
    "\n",
    "**Note:** The steps below assume that you have already cloned the `playground` repo in this notebook.\n",
    "\n",
    "1. First cell:\n",
    "  1. Go into the `playground` repo and fetch the changes from the master branch of the `course` remote.\n",
    "2. Second cell:\n",
    "  1. `git checkout course/master -- README.md`.  The `--` means that `README.md` is a file (as opposed to a `branch`).\n",
    "  2. `cat README.md`.  This just looks at the updated file.\n",
    "3. Third cell:\n",
    "  1. `git status`\n",
    "  2. Commit the changes to your local repo with an appropriate commit message.\n",
    "  3. `git status`\n",
    "  4. Push the changes to your remote repo."
   ]
  },
  {
   "cell_type": "code",
   "execution_count": 22,
   "metadata": {},
   "outputs": [
    {
     "name": "stderr",
     "output_type": "stream",
     "text": [
      "From https://github.com/IACS-CS-207/playground\n",
      " * [new branch]      master     -> course/master\n"
     ]
    }
   ],
   "source": [
    "%%bash\n",
    "cd /tmp/playground/\n",
    "git fetch course"
   ]
  },
  {
   "cell_type": "code",
   "execution_count": 25,
   "metadata": {},
   "outputs": [
    {
     "name": "stdout",
     "output_type": "stream",
     "text": [
      "# Playground Repo\n",
      "\n",
      "For practicing.\n"
     ]
    }
   ],
   "source": [
    "%%bash\n",
    "cd /tmp/playground/\n",
    "git checkout course/master -- README.md\n",
    "cat README.md"
   ]
  },
  {
   "cell_type": "code",
   "execution_count": 28,
   "metadata": {},
   "outputs": [
    {
     "name": "stdout",
     "output_type": "stream",
     "text": [
      "On branch master\n",
      "Your branch is ahead of 'origin/master' by 1 commit.\n",
      "  (use \"git push\" to publish your local commits)\n",
      "nothing to commit, working tree clean\n",
      "On branch master\n",
      "Your branch is ahead of 'origin/master' by 1 commit.\n",
      "  (use \"git push\" to publish your local commits)\n",
      "nothing to commit, working tree clean\n",
      "On branch master\n",
      "Your branch is ahead of 'origin/master' by 1 commit.\n",
      "  (use \"git push\" to publish your local commits)\n",
      "nothing to commit, working tree clean\n"
     ]
    },
    {
     "name": "stderr",
     "output_type": "stream",
     "text": [
      "To https://github.com/HeyItsRiddhi/playground.git\n",
      "   4f54b54..4ac63eb  master -> master\n"
     ]
    }
   ],
   "source": [
    "%%bash\n",
    "cd /tmp/playground/\n",
    "git status\n",
    "git commit -m \"updated README.md with course README.md\"\n",
    "git status\n",
    "git push"
   ]
  },
  {
   "cell_type": "markdown",
   "metadata": {},
   "source": [
    "## Problem 3\n",
    "This problem is related to the Lecture 4 exercises.\n",
    "1. Open the `languages.txt` file.  This file contains all the languages that students listed as their primary language in the course survey.\n",
    "2. Load the language strings from the file into a list.\n",
    "3. Use the `Counter` method from the `collections` library to count the number of occurrences of each element of the list.\n",
    "  + **NOTE:**  It is not necessary to use the `most_common()` method here.\n",
    "4. Create a bar plot to display the frequency of each language.  Be sure to label the x-axis!\n",
    "  + Remember, to create plots in the notebook you must put the line `%matplotlib inline` at the beginning of your notebook.\n",
    "  + Be sure to import matplotlib:  `import matplotlib.pyplot as plt`.\n",
    "  + To generate the bar plot write `plt.bar(x_coords, freqs)`.  You need to define `x_coords` and `freqs`.\n",
    "  + **Hint:** You may want to use the `numpy` `arange` function to create `x_coords`.  Remember, `x_coords` is the x-axis and it should have points for each distinct language.\n",
    "  + **Hint:** To get `freqs`, you may want to use the `values()` method on your result from step 3.  That is, `freqs = result_from_3.values()`.\n",
    "  + **Hint:** To label the x-axis you should use `plt.xticks(x_coords, labels)` where labels can be accessed through the `keys()` method on your result from step 3."
   ]
  },
  {
   "cell_type": "code",
   "execution_count": 127,
   "metadata": {},
   "outputs": [
    {
     "data": {
      "image/png": "[encoded data removed]",
      "text/plain": [
       "<matplotlib.figure.Figure at 0x1110a49b0>"
      ]
     },
     "metadata": {},
     "output_type": "display_data"
    }
   ],
   "source": [
    "import collections\n",
    "import numpy\n",
    "import matplotlib.pyplot as plt\n",
    "\n",
    "#get data\n",
    "file = open('../../lectures/L4/languages.txt', 'r')\n",
    "languages = file.read().splitlines() \n",
    "file.close()\n",
    "\n",
    "#calculate the amount of student that know each language\n",
    "freq = collections.Counter(languages)\n",
    "\n",
    "#plot data\n",
    "freqs = freq.values()\n",
    "labels = freq.keys()\n",
    "x_coords = numpy.arange(8)\n",
    "plt.bar(x_coords,freqs)\n",
    "plt.xticks(x_coords, labels)\n",
    "plt.xlabel(\"Languages\")\n",
    "plt.ylabel(\"Students\")\n",
    "plt.title('Languages students in the class know')\n",
    "plt.show()"
   ]
  },
  {
   "cell_type": "markdown",
   "metadata": {},
   "source": [
    "---\n",
    "## Problem 4\n",
    "In chemical kinetics, the reaction rate coefficient for a given reaction depends on the temperature of the system.  The functional relationship between the reaction rate coefficient and temperature is given by the Arrhenius rate:\n",
    "\\begin{align}\n",
    "k\\left(T\\right) = A T^{b}\\exp\\left(-\\frac{E}{RT}\\right)\n",
    "\\end{align}\n",
    "where $A$, $b$, and $E$ are parameters, $R = 8.314 \\dfrac{\\textrm{J}}{\\textrm{mol} \\textrm{ K}}$  is the universal gas constant, and $T$ is the temperature.\n",
    "\n",
    "Write a function which returns $k\\left(T\\right)$ given $A$, $b$, $E$, and $T$.  Here are a few requirements:\n",
    "* The function should test for exceptions where necessary.\n",
    "* Pass the parameters $A$, $b$, and $E$ in as a list.\n",
    "* Make $R$ a keyword argument to the function."
   ]
  },
  {
   "cell_type": "code",
   "execution_count": 143,
   "metadata": {
    "collapsed": true
   },
   "outputs": [],
   "source": [
    "import math\n",
    "import numpy\n",
    "\n",
    "def arrhenius_rate(params, T, R=8.314):\n",
    "    #Check that A,b,E is passed as a list\n",
    "    if(len(params) != 3 or type(params) != list):\n",
    "        print(\"ERROR: First argument needs to be a list of 3\")\n",
    "    else:\n",
    "        [A,b,E] = params\n",
    "        #Check that A,b,E is passed are numbers\n",
    "        if ((type(A) != int and type(A) != float) or \n",
    "            (type(b) != int and type(b) != float) or\n",
    "            (type(E) != int and type(E) != float)):\n",
    "            print(\"Error: All numbers in list must be of type integer or float\")\n",
    "        else:\n",
    "            #Calculate k(T)\n",
    "            kt = A*T**(b)*np.exp(-E/R*T)\n",
    "            return kt\n"
   ]
  },
  {
   "cell_type": "markdown",
   "metadata": {},
   "source": [
    "---\n",
    "## Problem 5\n",
    "Using `numpy` arrays, plot $k\\left(T\\right)$ for $T\\in\\left(0, 5000\\right]$ for three different sets of parameters $\\left\\{A, b, E\\right\\}$.  Make sure all three lines are on the same figure and be sure to label each line.  You may use the function from Problem 2.  You may want to play with the parameters a little bit to get some nice curves but you won't lose points for ugly curves either (as long as they're correct!)."
   ]
  },
  {
   "cell_type": "code",
   "execution_count": 140,
   "metadata": {
    "scrolled": false
   },
   "outputs": [],
   "source": [
    "#array of temperatures\n",
    "temps = numpy.arange(0,5000) \n",
    "\n",
    "# 3 different sets of parameters\n",
    "args = [[10,2,0.1],[20,2,0.11],[30,2,0.12]] \n",
    "\n",
    "# array to hold 3 data sets for 3 diff paramseters\n",
    "plots =[] \n",
    "\n",
    "#create 3 data sets to plot\n",
    "for arg in args: \n",
    "    kt = list(map(lambda x: arrhenius_rate(arg,int(x)), temps))\n",
    "    plots.append(kt)"
   ]
  },
  {
   "cell_type": "code",
   "execution_count": 142,
   "metadata": {},
   "outputs": [
    {
     "data": {
      "image/png": "[encoded data removed]",
      "text/plain": [
       "<matplotlib.figure.Figure at 0x111747a90>"
      ]
     },
     "metadata": {},
     "output_type": "display_data"
    }
   ],
   "source": [
    "import matplotlib.pyplot as plt\n",
    "\n",
    "#plot lines\n",
    "plt.plot(temps, plots[0], lw=2, ls='-', label=r'$A,b,E = 10,2,0.1$')\n",
    "plt.plot(temps, plots[1], lw=2, ls='--', label=r'$A,b,E = 10,2,0.11$')\n",
    "plt.plot(temps, plots[2], lw=2, ls='-', label=r'$A,b,E = 10,2,0.12$')\n",
    "\n",
    "#display legend and define axises & plot title\n",
    "plt.legend() \n",
    "plt.xlabel(r'$Temperature$', fontsize=16) \n",
    "plt.ylabel(r'$k(T)$', fontsize=16) \n",
    "plt.title('Arrhenius Rate with 3 parameters', fontsize=16)\n",
    "plt.show()\n"
   ]
  }
 ],
 "metadata": {
  "kernelspec": {
   "display_name": "Python 3",
   "language": "python",
   "name": "python3"
  },
  "language_info": {
   "codemirror_mode": {
    "name": "ipython",
    "version": 3
   },
   "file_extension": ".py",
   "mimetype": "text/x-python",
   "name": "python",
   "nbconvert_exporter": "python",
   "pygments_lexer": "ipython3",
   "version": "3.6.1"
  }
 },
 "nbformat": 4,
 "nbformat_minor": 2
}
