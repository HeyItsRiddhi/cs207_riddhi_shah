{
 "cells": [
  {
   "cell_type": "markdown",
   "metadata": {},
   "source": [
    "# Homework 8\n",
    "## Due Date:  Tuesday, October 31st at 11:59 PM"
   ]
  },
  {
   "cell_type": "markdown",
   "metadata": {},
   "source": [
    "# Problem 1:  BST Traversal\n",
    "This problem builds on Problem 1 of Homework 7 in which you wrote a binary search tree.\n",
    "\n",
    "### Part 1\n",
    "\n",
    "As discussed in lecture, three different types to do a depth-first traversal are: preorder, inorder, and postorder. Here is a reference: [Tree Traversal](https://en.wikipedia.org/wiki/Tree_traversal#Depth-first_search).\n",
    "\n",
    "Write an iterator class called `DFSTraversal` with the following specifications:\n",
    "\n",
    "* `__init__(self, tree, traversalType)`: Constructor takes a `BinaryTree` object and one of the enums from `DFSTraversalTypes`\n",
    "\n",
    "```python\n",
    "from enum import Enum\n",
    "\n",
    "class DFSTraversalTypes(Enum):\n",
    "    PREORDER = 1\n",
    "    INORDER = 2\n",
    "    POSTORDER = 3\n",
    "```\n",
    "\n",
    "* `changeTraversalType(self, traversalType)`: Change the traversal type\n",
    "* `__iter__(self)`: This is the initialization of an iterator\n",
    "* `__next__(self)`: This is called in the iterator for getting the next value\n",
    "\n",
    "Here's how you might use your `DFSTraversal` class:\n",
    "\n",
    "```python\n",
    "input_array = [3, 9, 2, 11]\n",
    "bt = BinaryTree()\n",
    "for val in input_array:\n",
    "    bt.insert(val)\n",
    "traversal = DFSTraversal(bt, DFSTraversalTypes.INORDER)\n",
    "for val in traversal:\n",
    "    print(val)\n",
    "2\n",
    "3\n",
    "9\n",
    "11\n",
    "```\n",
    "\n",
    "### Part 2\n",
    "Put your `BinaryTree` class (from homework 7) and your `DFSTraversal` class (from Part 1 of this homework) in a file titled `TreeTraversal.py`."
   ]
  },
  {
   "cell_type": "code",
   "execution_count": 371,
   "metadata": {},
   "outputs": [
    {
     "name": "stdout",
     "output_type": "stream",
     "text": [
      "Writing TreeTraversal.py\n"
     ]
    }
   ],
   "source": [
    "%%file TreeTraversal.py\n",
    "class Node():\n",
    "    def __init__(self,value):\n",
    "        self.value = value\n",
    "        self.left_child = None\n",
    "        self.right_child = None\n",
    "class BinaryTree():\n",
    "    def __init__(self):\n",
    "        self.tree = None\n",
    "    def insert(self,val):\n",
    "        if(self.tree == None):\n",
    "            self.tree = Node(val)\n",
    "        else:\n",
    "            self.add(val,self.tree)\n",
    "    def add(self,value,node):\n",
    "        if(value < node.value):\n",
    "            if(node.left_child == None):\n",
    "                node.left_child = Node(value)\n",
    "            else:\n",
    "                self.add(value,node.left_child)\n",
    "        else:\n",
    "            if(node.right_child == None):\n",
    "                node.right_child = Node(value)\n",
    "            else:\n",
    "                self.add(value,node.right_child)\n",
    "    def getValues(self,depth,node=None,vals=[]):\n",
    "        if(node == None):\n",
    "            if(self.tree == None):\n",
    "                return []\n",
    "            node = self.tree \n",
    "            vals = []\n",
    "        if (depth==0):\n",
    "            vals.append(node.value)\n",
    "        else:\n",
    "            if(node.left_child != None):\n",
    "                self.getValues(depth-1,node.left_child,vals)\n",
    "            else:\n",
    "                for i in range(int(2**(depth-1))):\n",
    "                    vals.append(None)\n",
    "            if(node.right_child != None):\n",
    "                self.getValues(depth-1,node.right_child,vals)\n",
    "            else:\n",
    "                for i in range(int(2**(depth-1))):\n",
    "                    vals.append(None)\n",
    "        return vals\n",
    "\n",
    "    def search(self,value, node,parent=None):\n",
    "        if(node != None):\n",
    "            if(value < node.value):\n",
    "                return self.search(value, node.left_child,node)\n",
    "            elif(value > node.value):\n",
    "                return self.search(value,node.right_child,node)\n",
    "            elif(node.value == value):\n",
    "                return parent,node\n",
    "        else:\n",
    "            raise Exception()\n",
    "                    \n",
    "    def remove(self, val):\n",
    "        parent, node = self.search(val,self.tree)\n",
    "        if(parent == None):\n",
    "            self.tree = None\n",
    "            return\n",
    "        if((node.left_child == None) and (node.right_child == None)):\n",
    "            if (parent.value > val):\n",
    "                parent.left_child = None\n",
    "            if (parent.value < val):\n",
    "                parent.right_child = None\n",
    "        if((node.left_child == None) or (node.right_child == None)):\n",
    "            if (node.left_child != None):\n",
    "                replacing_node = node.left_child\n",
    "            if (node.right_child != None):\n",
    "                replacing_node = node.right_child\n",
    "            if (parent.value > val):\n",
    "                parent.left_child = replacing_node\n",
    "            if (parent.value < val):\n",
    "                parent.right_child = replacing_node\n",
    "        if((node.left_child != None) and (node.right_child != None)):\n",
    "            replacing_node = node.left_child\n",
    "            if (parent.value > val):\n",
    "                parent.left_child = replacing_node\n",
    "            if (parent.value < val):\n",
    "                parent.right_child = replacing_node\n",
    "                \n",
    "from enum import Enum\n",
    "\n",
    "class DFSTraversalTypes(Enum):\n",
    "    PREORDER = 1\n",
    "    INORDER = 2\n",
    "    POSTORDER = 3\n",
    "    \n",
    "class DFSTraversal():\n",
    "    def __init__(self,tree,traversalType):\n",
    "        self.tree = tree\n",
    "        if(traversalType != DFSTraversalTypes.PREORDER and traversalType != DFSTraversalTypes.INORDER \n",
    "           and traversalType != DFSTraversalTypes.POSTORDER):\n",
    "            raise ValueError(\"Must input a traversal type of the form DFSTraversalTypes.INORDER\")\n",
    "        else:\n",
    "            self.type = traversalType\n",
    "    \n",
    "    def preorder(self, tree):\n",
    "        if tree != None:\n",
    "            yield tree.value\n",
    "            yield from self.preorder(tree.left_child)\n",
    "            yield from self.preorder(tree.right_child)\n",
    "            \n",
    "    def postorder(self, tree):\n",
    "        if tree != None:\n",
    "            yield from self.postorder(tree.left_child)\n",
    "            yield from self.postorder(tree.right_child)\n",
    "            yield tree.value\n",
    "            \n",
    "    def inorder(self,tree):\n",
    "        if tree != None:\n",
    "            yield from self.inorder(tree.left_child)\n",
    "            yield tree.value\n",
    "            yield from self.inorder(tree.right_child)\n",
    "    \n",
    "    def __iter__(self):\n",
    "        if(self.type == DFSTraversalTypes.PREORDER):\n",
    "            yield from self.preorder(self.tree)\n",
    "        elif(self.type == DFSTraversalTypes.POSTORDER):\n",
    "            yield from self.postorder(self.tree)\n",
    "        else:\n",
    "            yield from self.inorder(self.tree)      \n",
    "    \n",
    "    def changeTraversalType(self, traversalType):\n",
    "        self.type = traversalType\n"
   ]
  },
  {
   "cell_type": "code",
   "execution_count": 376,
   "metadata": {},
   "outputs": [],
   "source": [
    "#Create a tree for test ~from question example\n",
    "input_array = [3, 9, 2, 11]\n",
    "bt = BinaryTree()\n",
    "for val in input_array:\n",
    "    bt.insert(val)"
   ]
  },
  {
   "cell_type": "markdown",
   "metadata": {},
   "source": [
    "---"
   ]
  },
  {
   "cell_type": "code",
   "execution_count": 377,
   "metadata": {},
   "outputs": [
    {
     "name": "stdout",
     "output_type": "stream",
     "text": [
      "3\n",
      "2\n",
      "9\n",
      "11\n"
     ]
    }
   ],
   "source": [
    "#Markov Class in Action\n",
    "traversal = DFSTraversal(bt.tree, DFSTraversalTypes.INORDER)\n",
    "traversal.changeTraversalType(DFSTraversalTypes.PREORDER)\n",
    "for val in traversal:\n",
    "    print(val)"
   ]
  },
  {
   "cell_type": "code",
   "execution_count": 378,
   "metadata": {},
   "outputs": [
    {
     "data": {
      "text/plain": [
       "2"
      ]
     },
     "execution_count": 378,
     "metadata": {},
     "output_type": "execute_result"
    }
   ],
   "source": [
    "traversal = DFSTraversal(bt.tree, DFSTraversalTypes.INORDER)\n",
    "it = iter(traversal)\n",
    "next(it)"
   ]
  },
  {
   "cell_type": "markdown",
   "metadata": {},
   "source": [
    "## Problem 2: Markov Chains\n",
    "\n",
    "[Markov Chains](https://en.wikipedia.org/wiki/Markov_chain) are widely used to model and predict discrete events. Underlying Markov chains are Markov processes which make the assumption that the outcome of a future event only depends on the event immediately preceeding it. In this exercise, we will be assuming that weather has Markov properties (e.g. today's weather is dependent only on yesterday's weather). We will use the Markov assumption to create a basic model for predicting weather."
   ]
  },
  {
   "cell_type": "markdown",
   "metadata": {},
   "source": [
    "To begin, let's categorize weather into 7 types: ['sunny', 'cloudy', 'rainy', 'snowy', 'windy', 'hailing'].\n",
    "\n",
    "In the `weather.csv` file accompanying this homework, each row corresponds to one type of weather (in the order given above) and each column is the probability of one type of weather occurring the following day (also in the order given above).\n",
    "\n",
    "The $ij$th element is the probability that the $j$th weather type occurs after the $i$th weather type. So for example, (1,2) is the probability a cloudy day occurs after a sunny day.\n",
    "\n",
    "Take a look at the data. Make sure you see how if the previous day was sunny, the following day will have a 0.4 probability of being sunny as well. If the previous day was raining (index $i = 3$), then the following day (index $j$) has a 0.05 probability of being windy ($j = 5$)."
   ]
  },
  {
   "cell_type": "markdown",
   "metadata": {},
   "source": [
    "### Part 1:  Parse the `.csv` file into a `Numpy` array"
   ]
  },
  {
   "cell_type": "code",
   "execution_count": 372,
   "metadata": {},
   "outputs": [],
   "source": [
    "#Load CSV file -- hint: you can use np.genfromtxt()\n",
    "import numpy as np\n",
    "weather = np.genfromtxt('weather.csv', delimiter=',')"
   ]
  },
  {
   "cell_type": "markdown",
   "metadata": {},
   "source": [
    "### Part 2:  Create a class called `Markov` that has the following methods:\n",
    "\n",
    "* `load_data(array)`: loads the Numpy 2D array and stores it as a class variable.\n",
    "* `get_prob(previous_day, following_day)`: returns the probability of `following_day` weather given `previous_day` weather. \n",
    "\n",
    "**Note:** `previous_day` and `following_day` should be passed in string form (e.g. \"sunny\"), as opposed to an index (e.g. 0). \n",
    "\n",
    "\n"
   ]
  },
  {
   "cell_type": "code",
   "execution_count": 373,
   "metadata": {
    "collapsed": true
   },
   "outputs": [],
   "source": [
    "class Markov:\n",
    "    def __init__(self):\n",
    "        #array of all possible weather types\n",
    "        self.weather = ['sunny', 'cloudy', 'rainy', 'snowy', 'windy', 'hailing']\n",
    "        \n",
    "    def load_data(self,array):\n",
    "        self.data = array\n",
    "    \n",
    "    def get_prob(self,previous_day, following_day):\n",
    "        p_index = None\n",
    "        f_index = None\n",
    "        for i,v in enumerate(self.weather):\n",
    "            if(v == previous_day):\n",
    "                p_index = i\n",
    "        for i, v in enumerate(self.weather):\n",
    "            if(v == following_day):\n",
    "                f_index = i\n",
    "        if (p_index != None and f_index != None):\n",
    "            return float(self.data[p_index][f_index])\n",
    "        else: \n",
    "            raise ValueError(\"Must input a valid weather type as a string.\")\n",
    "            "
   ]
  },
  {
   "cell_type": "code",
   "execution_count": 374,
   "metadata": {},
   "outputs": [
    {
     "data": {
      "text/plain": [
       "0.4"
      ]
     },
     "execution_count": 374,
     "metadata": {},
     "output_type": "execute_result"
    }
   ],
   "source": [
    "#Markov Class in Action\n",
    "model = Markov()\n",
    "model.load_data(weather)\n",
    "model.get_prob('sunny','sunny')"
   ]
  },
  {
   "cell_type": "markdown",
   "metadata": {},
   "source": [
    "---"
   ]
  },
  {
   "cell_type": "markdown",
   "metadata": {},
   "source": [
    "## Problem 3: Iterators"
   ]
  },
  {
   "cell_type": "markdown",
   "metadata": {},
   "source": [
    "Iterators are a convenient way to walk along your Markov chain.\n",
    "\n",
    "#### Part 1: Using your `Markov` class from Problem 3, write `Markov` as an iterator by implementing the `__iter__()` and `__next__()` methods.\n",
    "\n",
    "Remember:  \n",
    "* `__iter__()` should return the iterator object and should be implicitly called when the loop begins\n",
    "* The `__next()__` method should return the next value and is implicitly called at each step in the loop.\n",
    "\n",
    "Each 'next' step should be stochastic (i.e. randomly selected based on the relative probabilities of the following day weather types) and should return the next day's weather as a string (e.g. \"sunny\") rather than an index (e.g. 0)."
   ]
  },
  {
   "cell_type": "code",
   "execution_count": 375,
   "metadata": {
    "collapsed": true
   },
   "outputs": [],
   "source": [
    "class Markov:\n",
    "    def __init__(self,weather):\n",
    "        #array of all possible weather types\n",
    "        self.weather = ['sunny', 'cloudy', 'rainy', 'snowy', 'windy', 'hailing']\n",
    "        #check that the right weather type is passed in\n",
    "        if(weather not in self.weather):\n",
    "            raise ValueError(\"Must input a valid weather type as a string.\")\n",
    "        else:\n",
    "            self.curr = weather\n",
    "        \n",
    "    def load_data(self,array):\n",
    "        self.data = array\n",
    "    \n",
    "    def get_prob(self,previous_day, following_day):\n",
    "        p_index = None\n",
    "        f_index = None\n",
    "        for i,v in enumerate(self.weather):\n",
    "            if(v == previous_day):\n",
    "                p_index = i\n",
    "        for i, v in enumerate(self.weather):\n",
    "            if(v == following_day):\n",
    "                f_index = i\n",
    "        if (p_index != None and f_index != None):\n",
    "            return float(self.data[p_index][f_index])\n",
    "        else: \n",
    "            raise ValueError(\"Must input a valid weather type as a string.\")\n",
    "    def __iter__(self):\n",
    "        return self\n",
    "        \n",
    "    def __next__(self):\n",
    "        #get relevant weather \n",
    "        for i,v in enumerate(self.weather):\n",
    "            if(v == self.curr):\n",
    "                row = self.data[i]\n",
    "        #create a cumulative sum of the probablities of each weather\n",
    "        weather_probs = np.cumsum(row)\n",
    "        #get a random number for weather\n",
    "        rand_num = np.random.random()\n",
    "        weather_index = weather_probs.searchsorted(rand_num)\n",
    "        #return assocaite weather as string\n",
    "        return self.weather[weather_index]"
   ]
  },
  {
   "cell_type": "markdown",
   "metadata": {},
   "source": [
    "#### Part 2: We want to predict what weather will be like in a week for 5 different cities.\n",
    "\n",
    "Now that we have our `Markov` iterator, we can try to predict what the weather will be like in seven days from now.\n",
    "\n",
    "Given each city's current weather in the dictionary `city_weather` (see below), simulate what the weather will be like in 7 days from now.  Rather than just producing one prediction per city, simulate 100 such predictions per city and store the most commonly occuring prediction.\n",
    "\n",
    "In your submission, print a dictionary `city_weather_predictions` that has each city as a key and the most commonly predicted weather as the corresponding value.\n",
    "\n",
    "**Note**: Don't worry if your values don't seem to make intuitive sense.  We made up the weather probabilities."
   ]
  },
  {
   "cell_type": "code",
   "execution_count": 363,
   "metadata": {
    "collapsed": true
   },
   "outputs": [],
   "source": [
    "city_weather = {\n",
    "    'New York': 'rainy',\n",
    "    'Chicago': 'snowy',\n",
    "    'Seattle': 'rainy',\n",
    "    'Boston': 'hailing',\n",
    "    'Miami': 'windy',\n",
    "    'Los Angeles': 'cloudy',\n",
    "    'San Fransisco': 'windy'\n",
    "}"
   ]
  },
  {
   "cell_type": "code",
   "execution_count": 381,
   "metadata": {
    "scrolled": true
   },
   "outputs": [],
   "source": [
    "#create dictionary\n",
    "city_weather_predictions = {}\n",
    "\n",
    "#do 100 simulations for each city weather in 7 days\n",
    "for city in city_weather:\n",
    "    w = city_weather[city]\n",
    "    count = [0] * 6\n",
    "    model = Markov(w)\n",
    "    model.load_data(weather)\n",
    "    for index in range(100):\n",
    "        for i,v in enumerate(model):\n",
    "            if (i==7):\n",
    "                count[model.weather.index(v)]+=1\n",
    "                break\n",
    "    most_common = model.weather[count.index(max(count))]\n",
    "    city_weather_predictions[city] = most_common"
   ]
  },
  {
   "cell_type": "code",
   "execution_count": 384,
   "metadata": {},
   "outputs": [
    {
     "name": "stdout",
     "output_type": "stream",
     "text": [
      "New York cloudy\n",
      "Chicago snowy\n",
      "Seattle cloudy\n",
      "Boston rainy\n",
      "Miami windy\n",
      "Los Angeles cloudy\n",
      "San Fransisco windy\n"
     ]
    }
   ],
   "source": [
    "#Print city_weather_predictions dictionary\n",
    "for city in city_weather_predictions:\n",
    "    print(city,city_weather_predictions[city])"
   ]
  }
 ],
 "metadata": {
  "kernelspec": {
   "display_name": "Python 3",
   "language": "python",
   "name": "python3"
  },
  "language_info": {
   "codemirror_mode": {
    "name": "ipython",
    "version": 3
   },
   "file_extension": ".py",
   "mimetype": "text/x-python",
   "name": "python",
   "nbconvert_exporter": "python",
   "pygments_lexer": "ipython3",
   "version": "3.6.1"
  }
 },
 "nbformat": 4,
 "nbformat_minor": 2
}
