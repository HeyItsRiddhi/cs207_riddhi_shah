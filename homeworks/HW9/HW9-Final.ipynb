{
 "cells": [
  {
   "cell_type": "markdown",
   "metadata": {},
   "source": [
    "# Homework 9: Getting Familiar with NASA Polynomials\n",
    "## Due Date:  Tuesday, November 7th at 11:59 PM"
   ]
  },
  {
   "cell_type": "markdown",
   "metadata": {},
   "source": [
    "Read the NASA Polynomial dataset in raw format and parse and store the data into an .xml file."
   ]
  },
  {
   "cell_type": "markdown",
   "metadata": {},
   "source": [
    "### Review of the NASA Polynomials\n",
    "You can find the NASA Polynomial file in `thermo.txt`.\n",
    "\n",
    "You can find some details on the NASA Polynomials [at this site](http://combustion.berkeley.edu/gri_mech/data/nasa_plnm.html) in addition to the Lecture 16 notes.\n",
    "\n",
    "\n",
    "The NASA polynomials for specie $i$ have the form:\n",
    "$$\n",
    "    \\frac{C_{p,i}}{R}= a_{i1} + a_{i2} T + a_{i3} T^2 + a_{i4} T^3 + a_{i5} T^4\n",
    "$$\n",
    "\n",
    "$$\n",
    "    \\frac{H_{i}}{RT} = a_{i1} + a_{i2} \\frac{T}{2} + a_{i3} \\frac{T^2}{3} + a_{i4} \\frac{T^3}{4} + a_{i5} \\frac{T^4}{5} + \\frac{a_{i6}}{T}\n",
    "$$\n",
    "\n",
    "$$\n",
    "    \\frac{S_{i}}{R}  = a_{i1} \\ln(T) + a_{i2} T + a_{i3} \\frac{T^2}{2} + a_{i4} \\frac{T^3}{3} + a_{i5} \\frac{T^4}{4} + a_{i7}\n",
    "$$\n",
    "\n",
    "where $a_{i1}$, $a_{i2}$, $a_{i3}$, $a_{i4}$, $a_{i5}$, $a_{i6}$, and $a_{i7}$ are the numerical coefficients supplied in NASA thermodynamic files. "
   ]
  },
  {
   "cell_type": "markdown",
   "metadata": {},
   "source": [
    "### Some Notes on `thermo.txt`\n",
    "The first 7 numbers starting on the second line of each species entry (five of the second line and the first two of the third line) are the seven coefficients ($a_{i1}$ through $a_{i7}$, respectively) for the high-temperature range (above 1000 K, the upper boundary is specified on the first line of the species entry). \n",
    "\n",
    "The next seven numbers are the coefficients ($a_{i1}$ through $a_{i7}$, respectively) for the low-temperature range (below 1000 K, the lower boundary is specified on the first line of the species entry)."
   ]
  },
  {
   "cell_type": "markdown",
   "metadata": {},
   "source": [
    "### Additional Specifications\n",
    "Your final .xml file should contain the following specifications:\n",
    "\n",
    "1. A `speciesArray` field that contains a space-separated list of all of the species present in the file.\n",
    "2. Each species contains a `species` field with a `name` attribute as the species name.\n",
    "\n",
    "    1. For each temperature range, use a sub-field with the minimum and maximum temperature as attributes.\n",
    "    2. `floatArray` field that contains comma-separated string of each coefficient.\n",
    "    \n",
    "You can reference the `example_thermo.xml` file for an example .xml output."
   ]
  },
  {
   "cell_type": "markdown",
   "metadata": {},
   "source": [
    "**Hint**: First parse the file into a Python dictionary. "
   ]
  },
  {
   "cell_type": "code",
   "execution_count": 49,
   "metadata": {},
   "outputs": [
    {
     "data": {
      "text/plain": [
       "\"for i,k in enumerate(species_info):\\n    print(k)\\n    print(species_info[k]['h']['Tmax'])\\n    print(species_info[k]['h']['Tmin'])\\n    print(species_info[k]['h']['coeffs'])\\n    print(species_info[k]['l']['Tmax'])\\n    print(species_info[k]['l']['Tmin'])\\n    print(species_info[k]['l']['coeffs'])\""
      ]
     },
     "execution_count": 49,
     "metadata": {},
     "output_type": "execute_result"
    }
   ],
   "source": [
    "import re\n",
    "from copy import deepcopy\n",
    "import xml.etree.ElementTree as ET\n",
    "\n",
    "#read the file\n",
    "file = open('thermo.txt','r')\n",
    "\n",
    "#read in each line\n",
    "lines = file.readlines()\n",
    "\n",
    "#close the file\n",
    "file.close()\n",
    "\n",
    "#dictionary\n",
    "species_info = {}\n",
    "\n",
    "#iterate over lines\n",
    "for i,line in enumerate(lines):\n",
    "    #spilt the line\n",
    "    strings = line.split()\n",
    "    \n",
    "    #stop if at the end of the file\n",
    "    if strings[0]==\"END\":\n",
    "        break  \n",
    "    \n",
    "    #find line with species\n",
    "    if strings[-1] == '1':\n",
    "        #print(strings)\n",
    "        #get species name\n",
    "        specie = strings[0]\n",
    "        #print('specie: ', strings[0])\n",
    "        #get the low temp min and max\n",
    "        low_min = strings[-4]\n",
    "        low_max = 1000.000\n",
    "        \n",
    "        #get the high temp min and max\n",
    "        high_min = 1000.000\n",
    "        high_max = strings[-3] \n",
    "        \n",
    "    if strings[-1] == '2': \n",
    "        #spilt the line by number as the numbers are not broken up by spaces in txt file\n",
    "        strings = re.findall(r\"[+\\-]?(?:0|[1-9]\\d*)(?:\\.\\d*)?(?:[eE][+\\-]?\\d+)?\", line)\n",
    "        #get first 5 high coefs\n",
    "        high_coeffs = []\n",
    "        high_coeffs.extend(strings[0:-1])\n",
    "        #print(strings[0:-1])\n",
    "        \n",
    "    if strings[-1] == '3': \n",
    "        #spilt the line by number as the numbers are not broken up by spaces in txt file\n",
    "        strings = re.findall(r\"[+\\-]?(?:0|[1-9]\\d*)(?:\\.\\d*)?(?:[eE][+\\-]?\\d+)?\", line)\n",
    "        #first two are high coeefs\n",
    "        high_coeffs.extend(strings[0:2])\n",
    "        \n",
    "        #remaining are low coeffs\n",
    "        low_coeffs = []\n",
    "        low_coeffs.extend(strings[2:-1])\n",
    "        \n",
    "    if strings[-1] == '4': \n",
    "        #spilt the line by number as the numbers are not broken up by spaces in txt file\n",
    "        strings = re.findall(r\"[+\\-]?(?:0|[1-9]\\d*)(?:\\.\\d*)?(?:[eE][+\\-]?\\d+)?\", line)\n",
    "        # get low coefs\n",
    "        low_coeffs.extend(strings[0:-1])\n",
    "        #print(\"numbers in 4:\",strings[0:-1])\n",
    "\n",
    "        #Add to dictionary\n",
    "        species_info[specie]={'l':{},'h':{}}\n",
    "        species_info[specie]['l']['Tmax'] = low_max\n",
    "        species_info[specie]['l']['Tmin'] = low_min\n",
    "        species_info[specie]['l']['coeffs'] = low_coeffs\n",
    "        species_info[specie]['h']['Tmax'] = high_max\n",
    "        species_info[specie]['h']['Tmin'] = high_min\n",
    "        species_info[specie]['h']['coeffs'] = high_coeffs\n",
    "        \n",
    "        #print everything\n",
    "        #print('specie: ',specie)\n",
    "        #print('low min: ',low_min)\n",
    "        #print('low max: ',low_max)\n",
    "        #print(\"low\",low_coeffs)\n",
    "        #print('high min: ',high_min)\n",
    "        #print('high max: ',high_max)\n",
    "        #print(\"high\",high_coeffs)\n",
    "        \n",
    "#Print out dict to test\n",
    "\n",
    "'''for i,k in enumerate(species_info):\n",
    "    print(k)\n",
    "    print(species_info[k]['h']['Tmax'])\n",
    "    print(species_info[k]['h']['Tmin'])\n",
    "    print(species_info[k]['h']['coeffs'])\n",
    "    print(species_info[k]['l']['Tmax'])\n",
    "    print(species_info[k]['l']['Tmin'])\n",
    "    print(species_info[k]['l']['coeffs'])'''"
   ]
  },
  {
   "cell_type": "code",
   "execution_count": 80,
   "metadata": {},
   "outputs": [
    {
     "name": "stdout",
     "output_type": "stream",
     "text": [
      " O O2 H H2 OH H2O HO2 H2O2\n",
      " O O2 H H2 OH H2O HO2 H2O2\n"
     ]
    }
   ],
   "source": [
    "#Create a xml from Dictionary\n",
    "from copy import deepcopy\n",
    "import xml.etree.ElementTree as ET\n",
    "\n",
    "#Get the xml structure from file\n",
    "tree = ET.parse('example_thermo.xml')\n",
    "root = tree.getroot()\n",
    "\n",
    "#Create species array element\n",
    "speciesArray = deepcopy(root.find('phase').find('speciesArray'))\n",
    "\n",
    "#Create string of all species\n",
    "species_list = ''\n",
    "for i,k in enumerate(species_info):\n",
    "    species_list += ' '+ str(k)\n",
    "\n",
    "#Add species string to copied species array element\n",
    "speciesArray.text = species_list\n",
    "\n",
    "#Delete old species array element\n",
    "example_speciesArray= root.find('phase').find('speciesArray')\n",
    "root.find('phase').remove(example_speciesArray)\n",
    "\n",
    "#Append new species array eleemnt\n",
    "root.find('phase').append(speciesArray)\n",
    "\n",
    "#Make copy of species element\n",
    "specie = deepcopy(root.find('speciesData').find('species'))\n"
   ]
  }
 ],
 "metadata": {
  "kernelspec": {
   "display_name": "Python 3",
   "language": "python",
   "name": "python3"
  },
  "language_info": {
   "codemirror_mode": {
    "name": "ipython",
    "version": 3
   },
   "file_extension": ".py",
   "mimetype": "text/x-python",
   "name": "python",
   "nbconvert_exporter": "python",
   "pygments_lexer": "ipython3",
   "version": "3.6.1"
  }
 },
 "nbformat": 4,
 "nbformat_minor": 1
}
